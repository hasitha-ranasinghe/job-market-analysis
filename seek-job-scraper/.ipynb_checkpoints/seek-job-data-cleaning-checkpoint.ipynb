{
 "cells": [
  {
   "cell_type": "code",
   "execution_count": 1,
   "metadata": {},
   "outputs": [],
   "source": [
    "import pandas as pd\n",
    "import numpy as np"
   ]
  },
  {
   "cell_type": "code",
   "execution_count": 2,
   "metadata": {
    "pycharm": {
     "name": "#%%\n"
    }
   },
   "outputs": [],
   "source": [
    "df = pd.read_csv('data/job-content.csv')"
   ]
  },
  {
   "cell_type": "code",
   "execution_count": 8,
   "metadata": {
    "pycharm": {
     "name": "#%%\n"
    }
   },
   "outputs": [
    {
     "data": {
      "text/plain": [
       "(528, 1)"
      ]
     },
     "execution_count": 8,
     "metadata": {},
     "output_type": "execute_result"
    }
   ],
   "source": [
    "df.shape"
   ]
  },
  {
   "cell_type": "code",
   "execution_count": 9,
   "metadata": {
    "pycharm": {
     "name": "#%%\n"
    }
   },
   "outputs": [
    {
     "data": {
      "text/plain": [
       "Index(['link'], dtype='object')"
      ]
     },
     "execution_count": 9,
     "metadata": {},
     "output_type": "execute_result"
    }
   ],
   "source": [
    "df.columns"
   ]
  },
  {
   "cell_type": "code",
   "execution_count": 10,
   "metadata": {
    "pycharm": {
     "name": "#%%\n"
    }
   },
   "outputs": [
    {
     "data": {
      "text/html": [
       "<div>\n",
       "<style scoped>\n",
       "    .dataframe tbody tr th:only-of-type {\n",
       "        vertical-align: middle;\n",
       "    }\n",
       "\n",
       "    .dataframe tbody tr th {\n",
       "        vertical-align: top;\n",
       "    }\n",
       "\n",
       "    .dataframe thead th {\n",
       "        text-align: right;\n",
       "    }\n",
       "</style>\n",
       "<table border=\"1\" class=\"dataframe\">\n",
       "  <thead>\n",
       "    <tr style=\"text-align: right;\">\n",
       "      <th></th>\n",
       "      <th>link</th>\n",
       "    </tr>\n",
       "  </thead>\n",
       "  <tbody>\n",
       "    <tr>\n",
       "      <th>0</th>\n",
       "      <td>https://www.seek.com.au//job/57009338?type=pro...</td>\n",
       "    </tr>\n",
       "    <tr>\n",
       "      <th>1</th>\n",
       "      <td>https://www.seek.com.au//job/56834934?type=pro...</td>\n",
       "    </tr>\n",
       "    <tr>\n",
       "      <th>2</th>\n",
       "      <td>https://www.seek.com.au//job/57015411?type=sta...</td>\n",
       "    </tr>\n",
       "    <tr>\n",
       "      <th>3</th>\n",
       "      <td>https://www.seek.com.au//job/56903759?type=sta...</td>\n",
       "    </tr>\n",
       "    <tr>\n",
       "      <th>4</th>\n",
       "      <td>https://www.seek.com.au//job/56903760?type=sta...</td>\n",
       "    </tr>\n",
       "    <tr>\n",
       "      <th>...</th>\n",
       "      <td>...</td>\n",
       "    </tr>\n",
       "    <tr>\n",
       "      <th>523</th>\n",
       "      <td>https://www.seek.com.au//job/56703498?type=sta...</td>\n",
       "    </tr>\n",
       "    <tr>\n",
       "      <th>524</th>\n",
       "      <td>https://www.seek.com.au//job/56696542?type=sta...</td>\n",
       "    </tr>\n",
       "    <tr>\n",
       "      <th>525</th>\n",
       "      <td>https://www.seek.com.au//job/57013164?type=sta...</td>\n",
       "    </tr>\n",
       "    <tr>\n",
       "      <th>526</th>\n",
       "      <td>https://www.seek.com.au//job/56972849?type=sta...</td>\n",
       "    </tr>\n",
       "    <tr>\n",
       "      <th>527</th>\n",
       "      <td>https://www.seek.com.au//job/56953060?type=sta...</td>\n",
       "    </tr>\n",
       "  </tbody>\n",
       "</table>\n",
       "<p>528 rows × 1 columns</p>\n",
       "</div>"
      ],
      "text/plain": [
       "                                                  link\n",
       "0    https://www.seek.com.au//job/57009338?type=pro...\n",
       "1    https://www.seek.com.au//job/56834934?type=pro...\n",
       "2    https://www.seek.com.au//job/57015411?type=sta...\n",
       "3    https://www.seek.com.au//job/56903759?type=sta...\n",
       "4    https://www.seek.com.au//job/56903760?type=sta...\n",
       "..                                                 ...\n",
       "523  https://www.seek.com.au//job/56703498?type=sta...\n",
       "524  https://www.seek.com.au//job/56696542?type=sta...\n",
       "525  https://www.seek.com.au//job/57013164?type=sta...\n",
       "526  https://www.seek.com.au//job/56972849?type=sta...\n",
       "527  https://www.seek.com.au//job/56953060?type=sta...\n",
       "\n",
       "[528 rows x 1 columns]"
      ]
     },
     "execution_count": 10,
     "metadata": {},
     "output_type": "execute_result"
    }
   ],
   "source": [
    "df"
   ]
  },
  {
   "cell_type": "code",
   "execution_count": 30,
   "metadata": {
    "pycharm": {
     "name": "#%%\n"
    }
   },
   "outputs": [
    {
     "data": {
      "text/plain": [
       "https://www.seek.com.au//job/56797319?type=promoted    3\n",
       "https://www.seek.com.au//job/56703498?type=promoted    3\n",
       "https://www.seek.com.au//job/56977806?type=promoted    3\n",
       "https://www.seek.com.au//job/57010204?type=promoted    3\n",
       "https://www.seek.com.au//job/56903744?type=promoted    2\n",
       "                                                      ..\n",
       "https://www.seek.com.au//job/56958493?type=standard    1\n",
       "https://www.seek.com.au//job/56801787?type=standout    1\n",
       "https://www.seek.com.au//job/56972236?type=standout    1\n",
       "https://www.seek.com.au//job/56697889?type=standout    1\n",
       "https://www.seek.com.au//job/56953060?type=standout    1\n",
       "Name: link, Length: 511, dtype: int64"
      ]
     },
     "execution_count": 30,
     "metadata": {},
     "output_type": "execute_result"
    }
   ],
   "source": [
    "df['link'].value_counts()"
   ]
  },
  {
   "cell_type": "code",
   "execution_count": 66,
   "metadata": {
    "pycharm": {
     "name": "#%%\n"
    }
   },
   "outputs": [],
   "source": [
    "df_job = pd.read_csv('data/job-content.csv')"
   ]
  },
  {
   "cell_type": "code",
   "execution_count": 67,
   "metadata": {
    "pycharm": {
     "name": "#%%\n"
    }
   },
   "outputs": [
    {
     "data": {
      "text/html": [
       "<div>\n",
       "<style scoped>\n",
       "    .dataframe tbody tr th:only-of-type {\n",
       "        vertical-align: middle;\n",
       "    }\n",
       "\n",
       "    .dataframe tbody tr th {\n",
       "        vertical-align: top;\n",
       "    }\n",
       "\n",
       "    .dataframe thead th {\n",
       "        text-align: right;\n",
       "    }\n",
       "</style>\n",
       "<table border=\"1\" class=\"dataframe\">\n",
       "  <thead>\n",
       "    <tr style=\"text-align: right;\">\n",
       "      <th></th>\n",
       "      <th>title</th>\n",
       "      <th>company</th>\n",
       "      <th>location</th>\n",
       "      <th>classification</th>\n",
       "      <th>sub_classification</th>\n",
       "      <th>salary</th>\n",
       "      <th>work_type</th>\n",
       "      <th>posted_date</th>\n",
       "      <th>description</th>\n",
       "    </tr>\n",
       "  </thead>\n",
       "  <tbody>\n",
       "    <tr>\n",
       "      <th>0</th>\n",
       "      <td>RQmedia - SEM expert - Google</td>\n",
       "      <td>Dynamic Creative</td>\n",
       "      <td>Adelaide</td>\n",
       "      <td>Marketing &amp; Communications</td>\n",
       "      <td>Digital &amp; Search Marketing</td>\n",
       "      <td>0</td>\n",
       "      <td>Full time</td>\n",
       "      <td>2d</td>\n",
       "      <td>&lt;div class=\"yvsb870 _1v38w810\"&gt;\\n &lt;p&gt;\\n  &lt;stro...</td>\n",
       "    </tr>\n",
       "    <tr>\n",
       "      <th>1</th>\n",
       "      <td>Applied Intelligence Support (Data Hub, AiOps,...</td>\n",
       "      <td>DXC Technology Australia &amp; New Zealand</td>\n",
       "      <td>Adelaide</td>\n",
       "      <td>Information &amp; Communication Technology</td>\n",
       "      <td>Business/Systems Analysts</td>\n",
       "      <td>0</td>\n",
       "      <td>Full time</td>\n",
       "      <td>16d</td>\n",
       "      <td>&lt;div class=\"yvsb870 _1v38w810\"&gt;\\n &lt;p&gt;\\n  DXC T...</td>\n",
       "    </tr>\n",
       "    <tr>\n",
       "      <th>2</th>\n",
       "      <td>Senior Data Analyst</td>\n",
       "      <td>SA Health</td>\n",
       "      <td>Adelaide</td>\n",
       "      <td>Information &amp; Communication Technology</td>\n",
       "      <td>Business/Systems Analysts</td>\n",
       "      <td>0</td>\n",
       "      <td>Full time</td>\n",
       "      <td>2d</td>\n",
       "      <td>&lt;div class=\"yvsb870 _1v38w810\"&gt;\\n &lt;ul&gt;\\n  &lt;li&gt;...</td>\n",
       "    </tr>\n",
       "    <tr>\n",
       "      <th>3</th>\n",
       "      <td>ASO6 Data Analyst (Multiple Positions)</td>\n",
       "      <td>Department for Education</td>\n",
       "      <td>Adelaide</td>\n",
       "      <td>Science &amp; Technology</td>\n",
       "      <td>Mathematics, Statistics &amp; Information Sciences</td>\n",
       "      <td>0</td>\n",
       "      <td>Contract/Temp</td>\n",
       "      <td>10d</td>\n",
       "      <td>&lt;div class=\"yvsb870 _1v38w810\"&gt;\\n &lt;p&gt;\\n  The D...</td>\n",
       "    </tr>\n",
       "    <tr>\n",
       "      <th>4</th>\n",
       "      <td>ASO6 Data Analyst (Multiple Positions)</td>\n",
       "      <td>Department for Education</td>\n",
       "      <td>Adelaide</td>\n",
       "      <td>Government &amp; Defence</td>\n",
       "      <td>Government - State</td>\n",
       "      <td>0</td>\n",
       "      <td>Contract/Temp</td>\n",
       "      <td>10d</td>\n",
       "      <td>&lt;div class=\"yvsb870 _1v38w810\"&gt;\\n &lt;p&gt;\\n  The D...</td>\n",
       "    </tr>\n",
       "  </tbody>\n",
       "</table>\n",
       "</div>"
      ],
      "text/plain": [
       "                                               title  \\\n",
       "0                      RQmedia - SEM expert - Google   \n",
       "1  Applied Intelligence Support (Data Hub, AiOps,...   \n",
       "2                                Senior Data Analyst   \n",
       "3             ASO6 Data Analyst (Multiple Positions)   \n",
       "4             ASO6 Data Analyst (Multiple Positions)   \n",
       "\n",
       "                                  company  location  \\\n",
       "0                        Dynamic Creative  Adelaide   \n",
       "1  DXC Technology Australia & New Zealand  Adelaide   \n",
       "2                               SA Health  Adelaide   \n",
       "3                Department for Education  Adelaide   \n",
       "4                Department for Education  Adelaide   \n",
       "\n",
       "                           classification  \\\n",
       "0              Marketing & Communications   \n",
       "1  Information & Communication Technology   \n",
       "2  Information & Communication Technology   \n",
       "3                    Science & Technology   \n",
       "4                    Government & Defence   \n",
       "\n",
       "                               sub_classification salary      work_type  \\\n",
       "0                      Digital & Search Marketing      0      Full time   \n",
       "1                       Business/Systems Analysts      0      Full time   \n",
       "2                       Business/Systems Analysts      0      Full time   \n",
       "3  Mathematics, Statistics & Information Sciences      0  Contract/Temp   \n",
       "4                              Government - State      0  Contract/Temp   \n",
       "\n",
       "  posted_date                                        description  \n",
       "0          2d  <div class=\"yvsb870 _1v38w810\">\\n <p>\\n  <stro...  \n",
       "1         16d  <div class=\"yvsb870 _1v38w810\">\\n <p>\\n  DXC T...  \n",
       "2          2d  <div class=\"yvsb870 _1v38w810\">\\n <ul>\\n  <li>...  \n",
       "3         10d  <div class=\"yvsb870 _1v38w810\">\\n <p>\\n  The D...  \n",
       "4         10d  <div class=\"yvsb870 _1v38w810\">\\n <p>\\n  The D...  "
      ]
     },
     "execution_count": 67,
     "metadata": {},
     "output_type": "execute_result"
    }
   ],
   "source": [
    "df_job.head()"
   ]
  },
  {
   "cell_type": "code",
   "execution_count": 68,
   "metadata": {
    "pycharm": {
     "name": "#%%\n"
    }
   },
   "outputs": [
    {
     "data": {
      "text/plain": [
       "(523, 9)"
      ]
     },
     "execution_count": 68,
     "metadata": {},
     "output_type": "execute_result"
    }
   ],
   "source": [
    "df_job.shape"
   ]
  },
  {
   "cell_type": "code",
   "execution_count": 69,
   "metadata": {
    "pycharm": {
     "name": "#%%\n"
    }
   },
   "outputs": [
    {
     "data": {
      "text/html": [
       "<div>\n",
       "<style scoped>\n",
       "    .dataframe tbody tr th:only-of-type {\n",
       "        vertical-align: middle;\n",
       "    }\n",
       "\n",
       "    .dataframe tbody tr th {\n",
       "        vertical-align: top;\n",
       "    }\n",
       "\n",
       "    .dataframe thead th {\n",
       "        text-align: right;\n",
       "    }\n",
       "</style>\n",
       "<table border=\"1\" class=\"dataframe\">\n",
       "  <thead>\n",
       "    <tr style=\"text-align: right;\">\n",
       "      <th></th>\n",
       "      <th>title</th>\n",
       "      <th>company</th>\n",
       "      <th>location</th>\n",
       "      <th>classification</th>\n",
       "      <th>sub_classification</th>\n",
       "      <th>salary</th>\n",
       "      <th>work_type</th>\n",
       "      <th>posted_date</th>\n",
       "      <th>description</th>\n",
       "    </tr>\n",
       "  </thead>\n",
       "  <tbody>\n",
       "    <tr>\n",
       "      <th>0</th>\n",
       "      <td>RQmedia - SEM expert - Google</td>\n",
       "      <td>Dynamic Creative</td>\n",
       "      <td>Adelaide</td>\n",
       "      <td>Marketing &amp; Communications</td>\n",
       "      <td>Digital &amp; Search Marketing</td>\n",
       "      <td>0</td>\n",
       "      <td>Full time</td>\n",
       "      <td>2d</td>\n",
       "      <td>&lt;div class=\"yvsb870 _1v38w810\"&gt;\\n &lt;p&gt;\\n  &lt;stro...</td>\n",
       "    </tr>\n",
       "    <tr>\n",
       "      <th>1</th>\n",
       "      <td>Applied Intelligence Support (Data Hub, AiOps,...</td>\n",
       "      <td>DXC Technology Australia &amp; New Zealand</td>\n",
       "      <td>Adelaide</td>\n",
       "      <td>Information &amp; Communication Technology</td>\n",
       "      <td>Business/Systems Analysts</td>\n",
       "      <td>0</td>\n",
       "      <td>Full time</td>\n",
       "      <td>16d</td>\n",
       "      <td>&lt;div class=\"yvsb870 _1v38w810\"&gt;\\n &lt;p&gt;\\n  DXC T...</td>\n",
       "    </tr>\n",
       "    <tr>\n",
       "      <th>2</th>\n",
       "      <td>Senior Data Analyst</td>\n",
       "      <td>SA Health</td>\n",
       "      <td>Adelaide</td>\n",
       "      <td>Information &amp; Communication Technology</td>\n",
       "      <td>Business/Systems Analysts</td>\n",
       "      <td>0</td>\n",
       "      <td>Full time</td>\n",
       "      <td>2d</td>\n",
       "      <td>&lt;div class=\"yvsb870 _1v38w810\"&gt;\\n &lt;ul&gt;\\n  &lt;li&gt;...</td>\n",
       "    </tr>\n",
       "    <tr>\n",
       "      <th>3</th>\n",
       "      <td>ASO6 Data Analyst (Multiple Positions)</td>\n",
       "      <td>Department for Education</td>\n",
       "      <td>Adelaide</td>\n",
       "      <td>Science &amp; Technology</td>\n",
       "      <td>Mathematics, Statistics &amp; Information Sciences</td>\n",
       "      <td>0</td>\n",
       "      <td>Contract/Temp</td>\n",
       "      <td>10d</td>\n",
       "      <td>&lt;div class=\"yvsb870 _1v38w810\"&gt;\\n &lt;p&gt;\\n  The D...</td>\n",
       "    </tr>\n",
       "    <tr>\n",
       "      <th>4</th>\n",
       "      <td>ASO6 Data Analyst (Multiple Positions)</td>\n",
       "      <td>Department for Education</td>\n",
       "      <td>Adelaide</td>\n",
       "      <td>Government &amp; Defence</td>\n",
       "      <td>Government - State</td>\n",
       "      <td>0</td>\n",
       "      <td>Contract/Temp</td>\n",
       "      <td>10d</td>\n",
       "      <td>&lt;div class=\"yvsb870 _1v38w810\"&gt;\\n &lt;p&gt;\\n  The D...</td>\n",
       "    </tr>\n",
       "    <tr>\n",
       "      <th>...</th>\n",
       "      <td>...</td>\n",
       "      <td>...</td>\n",
       "      <td>...</td>\n",
       "      <td>...</td>\n",
       "      <td>...</td>\n",
       "      <td>...</td>\n",
       "      <td>...</td>\n",
       "      <td>...</td>\n",
       "      <td>...</td>\n",
       "    </tr>\n",
       "    <tr>\n",
       "      <th>518</th>\n",
       "      <td>Property Operations Support Coordinator</td>\n",
       "      <td>Yugo Australia Pty Ltd</td>\n",
       "      <td>Adelaide</td>\n",
       "      <td>Administration &amp; Office Support</td>\n",
       "      <td>Administrative Assistants</td>\n",
       "      <td>0</td>\n",
       "      <td>Contract/Temp</td>\n",
       "      <td>28d</td>\n",
       "      <td>&lt;div class=\"yvsb870 _1v38w810\"&gt;\\n &lt;p&gt;\\n  Yugo ...</td>\n",
       "    </tr>\n",
       "    <tr>\n",
       "      <th>519</th>\n",
       "      <td>Postdoctoral Researcer, Bioinformatics and Hum...</td>\n",
       "      <td>SAHMRI</td>\n",
       "      <td>Adelaide</td>\n",
       "      <td>Science &amp; Technology</td>\n",
       "      <td>Biological &amp; Biomedical Sciences</td>\n",
       "      <td>$75,000 - $95,000 + super (with salary packaging)</td>\n",
       "      <td>Full time</td>\n",
       "      <td>28d</td>\n",
       "      <td>&lt;div class=\"yvsb870 _1v38w810\"&gt;\\n &lt;p&gt;\\n  &lt;stro...</td>\n",
       "    </tr>\n",
       "    <tr>\n",
       "      <th>520</th>\n",
       "      <td>Procurement/Purchasing Manager</td>\n",
       "      <td>Private Advertiser</td>\n",
       "      <td>Adelaide</td>\n",
       "      <td>Manufacturing, Transport &amp; Logistics</td>\n",
       "      <td>Management</td>\n",
       "      <td>0</td>\n",
       "      <td>Full time</td>\n",
       "      <td>2d</td>\n",
       "      <td>&lt;div class=\"yvsb870 _1v38w810\"&gt;\\n &lt;p&gt;\\n &lt;/p&gt;\\n...</td>\n",
       "    </tr>\n",
       "    <tr>\n",
       "      <th>521</th>\n",
       "      <td>Senior Software Engineer</td>\n",
       "      <td>Miniprobes Pty Ltd</td>\n",
       "      <td>Adelaide</td>\n",
       "      <td>Information &amp; Communication Technology</td>\n",
       "      <td>Engineering - Software</td>\n",
       "      <td>$100,000 - $145,000</td>\n",
       "      <td>Full time</td>\n",
       "      <td>6d</td>\n",
       "      <td>&lt;div class=\"yvsb870 _1v38w810\"&gt;\\n &lt;p&gt;\\n  Do yo...</td>\n",
       "    </tr>\n",
       "    <tr>\n",
       "      <th>522</th>\n",
       "      <td>Data Officer- Wellness Connect National Psycho...</td>\n",
       "      <td>Neami National Limited</td>\n",
       "      <td>Adelaide</td>\n",
       "      <td>Community Services &amp; Development</td>\n",
       "      <td>Community Development</td>\n",
       "      <td>CSS Level 3 $74,253 - $79,890 (pro rata)</td>\n",
       "      <td>Part time</td>\n",
       "      <td>7d</td>\n",
       "      <td>&lt;div class=\"yvsb870 _1v38w810\"&gt;\\n &lt;p&gt;\\n  &lt;stro...</td>\n",
       "    </tr>\n",
       "  </tbody>\n",
       "</table>\n",
       "<p>523 rows × 9 columns</p>\n",
       "</div>"
      ],
      "text/plain": [
       "                                                 title  \\\n",
       "0                        RQmedia - SEM expert - Google   \n",
       "1    Applied Intelligence Support (Data Hub, AiOps,...   \n",
       "2                                  Senior Data Analyst   \n",
       "3               ASO6 Data Analyst (Multiple Positions)   \n",
       "4               ASO6 Data Analyst (Multiple Positions)   \n",
       "..                                                 ...   \n",
       "518            Property Operations Support Coordinator   \n",
       "519  Postdoctoral Researcer, Bioinformatics and Hum...   \n",
       "520                     Procurement/Purchasing Manager   \n",
       "521                           Senior Software Engineer   \n",
       "522  Data Officer- Wellness Connect National Psycho...   \n",
       "\n",
       "                                    company  location  \\\n",
       "0                          Dynamic Creative  Adelaide   \n",
       "1    DXC Technology Australia & New Zealand  Adelaide   \n",
       "2                                 SA Health  Adelaide   \n",
       "3                  Department for Education  Adelaide   \n",
       "4                  Department for Education  Adelaide   \n",
       "..                                      ...       ...   \n",
       "518                  Yugo Australia Pty Ltd  Adelaide   \n",
       "519                                  SAHMRI  Adelaide   \n",
       "520                      Private Advertiser  Adelaide   \n",
       "521                      Miniprobes Pty Ltd  Adelaide   \n",
       "522                  Neami National Limited  Adelaide   \n",
       "\n",
       "                             classification  \\\n",
       "0                Marketing & Communications   \n",
       "1    Information & Communication Technology   \n",
       "2    Information & Communication Technology   \n",
       "3                      Science & Technology   \n",
       "4                      Government & Defence   \n",
       "..                                      ...   \n",
       "518         Administration & Office Support   \n",
       "519                    Science & Technology   \n",
       "520    Manufacturing, Transport & Logistics   \n",
       "521  Information & Communication Technology   \n",
       "522        Community Services & Development   \n",
       "\n",
       "                                 sub_classification  \\\n",
       "0                        Digital & Search Marketing   \n",
       "1                         Business/Systems Analysts   \n",
       "2                         Business/Systems Analysts   \n",
       "3    Mathematics, Statistics & Information Sciences   \n",
       "4                                Government - State   \n",
       "..                                              ...   \n",
       "518                       Administrative Assistants   \n",
       "519                Biological & Biomedical Sciences   \n",
       "520                                      Management   \n",
       "521                          Engineering - Software   \n",
       "522                           Community Development   \n",
       "\n",
       "                                                salary      work_type  \\\n",
       "0                                                    0      Full time   \n",
       "1                                                    0      Full time   \n",
       "2                                                    0      Full time   \n",
       "3                                                    0  Contract/Temp   \n",
       "4                                                    0  Contract/Temp   \n",
       "..                                                 ...            ...   \n",
       "518                                                  0  Contract/Temp   \n",
       "519  $75,000 - $95,000 + super (with salary packaging)      Full time   \n",
       "520                                                  0      Full time   \n",
       "521                                $100,000 - $145,000      Full time   \n",
       "522           CSS Level 3 $74,253 - $79,890 (pro rata)      Part time   \n",
       "\n",
       "    posted_date                                        description  \n",
       "0            2d  <div class=\"yvsb870 _1v38w810\">\\n <p>\\n  <stro...  \n",
       "1           16d  <div class=\"yvsb870 _1v38w810\">\\n <p>\\n  DXC T...  \n",
       "2            2d  <div class=\"yvsb870 _1v38w810\">\\n <ul>\\n  <li>...  \n",
       "3           10d  <div class=\"yvsb870 _1v38w810\">\\n <p>\\n  The D...  \n",
       "4           10d  <div class=\"yvsb870 _1v38w810\">\\n <p>\\n  The D...  \n",
       "..          ...                                                ...  \n",
       "518         28d  <div class=\"yvsb870 _1v38w810\">\\n <p>\\n  Yugo ...  \n",
       "519         28d  <div class=\"yvsb870 _1v38w810\">\\n <p>\\n  <stro...  \n",
       "520          2d  <div class=\"yvsb870 _1v38w810\">\\n <p>\\n </p>\\n...  \n",
       "521          6d  <div class=\"yvsb870 _1v38w810\">\\n <p>\\n  Do yo...  \n",
       "522          7d  <div class=\"yvsb870 _1v38w810\">\\n <p>\\n  <stro...  \n",
       "\n",
       "[523 rows x 9 columns]"
      ]
     },
     "execution_count": 69,
     "metadata": {},
     "output_type": "execute_result"
    }
   ],
   "source": [
    "df_job"
   ]
  },
  {
   "cell_type": "code",
   "execution_count": 70,
   "metadata": {
    "pycharm": {
     "name": "#%%\n"
    }
   },
   "outputs": [
    {
     "data": {
      "text/plain": [
       "Index(['title', 'company', 'location', 'classification', 'sub_classification',\n",
       "       'salary', 'work_type', 'posted_date', 'description'],\n",
       "      dtype='object')"
      ]
     },
     "execution_count": 70,
     "metadata": {},
     "output_type": "execute_result"
    }
   ],
   "source": [
    "df_job.columns"
   ]
  },
  {
   "cell_type": "code",
   "execution_count": 71,
   "metadata": {
    "pycharm": {
     "name": "#%%\n"
    }
   },
   "outputs": [
    {
     "data": {
      "text/plain": [
       "Adelaide    523\n",
       "Name: location, dtype: int64"
      ]
     },
     "execution_count": 71,
     "metadata": {},
     "output_type": "execute_result"
    }
   ],
   "source": [
    "df_job.location.value_counts()"
   ]
  },
  {
   "cell_type": "code",
   "execution_count": 72,
   "metadata": {
    "pycharm": {
     "name": "#%%\n"
    }
   },
   "outputs": [
    {
     "data": {
      "text/plain": [
       "Information & Communication Technology    196\n",
       "Government & Defence                       71\n",
       "Accounting                                 39\n",
       "Science & Technology                       29\n",
       "Education & Training                       28\n",
       "Marketing & Communications                 20\n",
       "Administration & Office Support            17\n",
       "Consulting & Strategy                      16\n",
       "Manufacturing, Transport & Logistics       13\n",
       "Banking & Financial Services               12\n",
       "Healthcare & Medical                       10\n",
       "Engineering                                10\n",
       "Human Resources & Recruitment               8\n",
       "Call Centre & Customer Service              8\n",
       "Sales                                       6\n",
       "Mining, Resources & Energy                  6\n",
       "Trades & Services                           5\n",
       "Construction                                5\n",
       "Real Estate & Property                      4\n",
       "Legal                                       3\n",
       "Retail & Consumer Products                  3\n",
       "Design & Architecture                       3\n",
       "Community Services & Development            3\n",
       "Insurance & Superannuation                  3\n",
       "Hospitality & Tourism                       2\n",
       "Farming, Animals & Conservation             1\n",
       "Advertising, Arts & Media                   1\n",
       "Sport & Recreation                          1\n",
       "Name: classification, dtype: int64"
      ]
     },
     "execution_count": 72,
     "metadata": {},
     "output_type": "execute_result"
    }
   ],
   "source": [
    "df_job.classification.value_counts()"
   ]
  },
  {
   "cell_type": "code",
   "execution_count": 73,
   "metadata": {
    "pycharm": {
     "name": "#%%\n"
    }
   },
   "outputs": [
    {
     "data": {
      "text/plain": [
       "Business/Systems Analysts    62\n",
       "Other                        51\n",
       "Government - Federal         26\n",
       "Government - State           24\n",
       "Engineering - Software       20\n",
       "                             ..\n",
       "Merchandisers                 1\n",
       "Web & Interaction Design      1\n",
       "Recruitment - Internal        1\n",
       "Teaching - Tertiary           1\n",
       "Community Development         1\n",
       "Name: sub_classification, Length: 105, dtype: int64"
      ]
     },
     "execution_count": 73,
     "metadata": {},
     "output_type": "execute_result"
    }
   ],
   "source": [
    "df_job.sub_classification.value_counts()"
   ]
  },
  {
   "cell_type": "code",
   "execution_count": 74,
   "metadata": {
    "pycharm": {
     "name": "#%%\n"
    }
   },
   "outputs": [
    {
     "data": {
      "text/plain": [
       "Department of Defence                                           22\n",
       "University of South Australia                                   16\n",
       "SA Health                                                       13\n",
       "Talent – SEEK Recruitment Agency of the Year | 7 Time Winner    10\n",
       "Robert Walters                                                  10\n",
       "                                                                ..\n",
       "Synaco Global Recruitment Pty Ltd                                1\n",
       "Tactic Lab Pty Ltd                                               1\n",
       "Cobham Aviation Services Australia                               1\n",
       "Jonas Software Australia                                         1\n",
       "Neami National Limited                                           1\n",
       "Name: company, Length: 242, dtype: int64"
      ]
     },
     "execution_count": 74,
     "metadata": {},
     "output_type": "execute_result"
    }
   ],
   "source": [
    "df_job.company.value_counts()"
   ]
  },
  {
   "cell_type": "code",
   "execution_count": 75,
   "metadata": {
    "pycharm": {
     "name": "#%%\n"
    }
   },
   "outputs": [
    {
     "data": {
      "text/plain": [
       "6d      46\n",
       "2d      38\n",
       "8d      36\n",
       "15d     33\n",
       "9d      30\n",
       "13d     29\n",
       "16d     28\n",
       "10d     27\n",
       "7d      24\n",
       "22d     23\n",
       "20d     23\n",
       "1d      23\n",
       "14d     22\n",
       "28d     19\n",
       "21d     18\n",
       "3d      18\n",
       "23d     18\n",
       "17d     15\n",
       "27d     13\n",
       "29d      8\n",
       "9h       6\n",
       "8h       5\n",
       "30d+     4\n",
       "25d      3\n",
       "5d       3\n",
       "6        1\n",
       "7h       1\n",
       "12d      1\n",
       "26d      1\n",
       "11d      1\n",
       "18d      1\n",
       "4d       1\n",
       "5h       1\n",
       "23h      1\n",
       "21h      1\n",
       "6h       1\n",
       "Name: posted_date, dtype: int64"
      ]
     },
     "execution_count": 75,
     "metadata": {},
     "output_type": "execute_result"
    }
   ],
   "source": [
    "df_job.posted_date.value_counts()"
   ]
  },
  {
   "cell_type": "code",
   "execution_count": 76,
   "metadata": {
    "pycharm": {
     "name": "#%%\n"
    }
   },
   "outputs": [
    {
     "data": {
      "text/html": [
       "<div>\n",
       "<style scoped>\n",
       "    .dataframe tbody tr th:only-of-type {\n",
       "        vertical-align: middle;\n",
       "    }\n",
       "\n",
       "    .dataframe tbody tr th {\n",
       "        vertical-align: top;\n",
       "    }\n",
       "\n",
       "    .dataframe thead th {\n",
       "        text-align: right;\n",
       "    }\n",
       "</style>\n",
       "<table border=\"1\" class=\"dataframe\">\n",
       "  <thead>\n",
       "    <tr style=\"text-align: right;\">\n",
       "      <th></th>\n",
       "      <th>title</th>\n",
       "      <th>company</th>\n",
       "      <th>location</th>\n",
       "      <th>classification</th>\n",
       "      <th>sub_classification</th>\n",
       "      <th>salary</th>\n",
       "      <th>work_type</th>\n",
       "      <th>posted_date</th>\n",
       "      <th>description</th>\n",
       "    </tr>\n",
       "  </thead>\n",
       "  <tbody>\n",
       "    <tr>\n",
       "      <th>0</th>\n",
       "      <td>RQmedia - SEM expert - Google</td>\n",
       "      <td>Dynamic Creative</td>\n",
       "      <td>Adelaide</td>\n",
       "      <td>Marketing &amp; Communications</td>\n",
       "      <td>Digital &amp; Search Marketing</td>\n",
       "      <td>0</td>\n",
       "      <td>Full time</td>\n",
       "      <td>2d</td>\n",
       "      <td>&lt;div class=\"yvsb870 _1v38w810\"&gt;\\n &lt;p&gt;\\n  &lt;stro...</td>\n",
       "    </tr>\n",
       "    <tr>\n",
       "      <th>1</th>\n",
       "      <td>Applied Intelligence Support (Data Hub, AiOps,...</td>\n",
       "      <td>DXC Technology Australia &amp; New Zealand</td>\n",
       "      <td>Adelaide</td>\n",
       "      <td>Information &amp; Communication Technology</td>\n",
       "      <td>Business/Systems Analysts</td>\n",
       "      <td>0</td>\n",
       "      <td>Full time</td>\n",
       "      <td>16d</td>\n",
       "      <td>&lt;div class=\"yvsb870 _1v38w810\"&gt;\\n &lt;p&gt;\\n  DXC T...</td>\n",
       "    </tr>\n",
       "    <tr>\n",
       "      <th>2</th>\n",
       "      <td>Senior Data Analyst</td>\n",
       "      <td>SA Health</td>\n",
       "      <td>Adelaide</td>\n",
       "      <td>Information &amp; Communication Technology</td>\n",
       "      <td>Business/Systems Analysts</td>\n",
       "      <td>0</td>\n",
       "      <td>Full time</td>\n",
       "      <td>2d</td>\n",
       "      <td>&lt;div class=\"yvsb870 _1v38w810\"&gt;\\n &lt;ul&gt;\\n  &lt;li&gt;...</td>\n",
       "    </tr>\n",
       "    <tr>\n",
       "      <th>3</th>\n",
       "      <td>ASO6 Data Analyst (Multiple Positions)</td>\n",
       "      <td>Department for Education</td>\n",
       "      <td>Adelaide</td>\n",
       "      <td>Science &amp; Technology</td>\n",
       "      <td>Mathematics, Statistics &amp; Information Sciences</td>\n",
       "      <td>0</td>\n",
       "      <td>Contract/Temp</td>\n",
       "      <td>10d</td>\n",
       "      <td>&lt;div class=\"yvsb870 _1v38w810\"&gt;\\n &lt;p&gt;\\n  The D...</td>\n",
       "    </tr>\n",
       "    <tr>\n",
       "      <th>4</th>\n",
       "      <td>ASO6 Data Analyst (Multiple Positions)</td>\n",
       "      <td>Department for Education</td>\n",
       "      <td>Adelaide</td>\n",
       "      <td>Government &amp; Defence</td>\n",
       "      <td>Government - State</td>\n",
       "      <td>0</td>\n",
       "      <td>Contract/Temp</td>\n",
       "      <td>10d</td>\n",
       "      <td>&lt;div class=\"yvsb870 _1v38w810\"&gt;\\n &lt;p&gt;\\n  The D...</td>\n",
       "    </tr>\n",
       "  </tbody>\n",
       "</table>\n",
       "</div>"
      ],
      "text/plain": [
       "                                               title  \\\n",
       "0                      RQmedia - SEM expert - Google   \n",
       "1  Applied Intelligence Support (Data Hub, AiOps,...   \n",
       "2                                Senior Data Analyst   \n",
       "3             ASO6 Data Analyst (Multiple Positions)   \n",
       "4             ASO6 Data Analyst (Multiple Positions)   \n",
       "\n",
       "                                  company  location  \\\n",
       "0                        Dynamic Creative  Adelaide   \n",
       "1  DXC Technology Australia & New Zealand  Adelaide   \n",
       "2                               SA Health  Adelaide   \n",
       "3                Department for Education  Adelaide   \n",
       "4                Department for Education  Adelaide   \n",
       "\n",
       "                           classification  \\\n",
       "0              Marketing & Communications   \n",
       "1  Information & Communication Technology   \n",
       "2  Information & Communication Technology   \n",
       "3                    Science & Technology   \n",
       "4                    Government & Defence   \n",
       "\n",
       "                               sub_classification salary      work_type  \\\n",
       "0                      Digital & Search Marketing      0      Full time   \n",
       "1                       Business/Systems Analysts      0      Full time   \n",
       "2                       Business/Systems Analysts      0      Full time   \n",
       "3  Mathematics, Statistics & Information Sciences      0  Contract/Temp   \n",
       "4                              Government - State      0  Contract/Temp   \n",
       "\n",
       "  posted_date                                        description  \n",
       "0          2d  <div class=\"yvsb870 _1v38w810\">\\n <p>\\n  <stro...  \n",
       "1         16d  <div class=\"yvsb870 _1v38w810\">\\n <p>\\n  DXC T...  \n",
       "2          2d  <div class=\"yvsb870 _1v38w810\">\\n <ul>\\n  <li>...  \n",
       "3         10d  <div class=\"yvsb870 _1v38w810\">\\n <p>\\n  The D...  \n",
       "4         10d  <div class=\"yvsb870 _1v38w810\">\\n <p>\\n  The D...  "
      ]
     },
     "execution_count": 76,
     "metadata": {},
     "output_type": "execute_result"
    }
   ],
   "source": [
    "df_job.head()"
   ]
  },
  {
   "cell_type": "code",
   "execution_count": 77,
   "metadata": {
    "pycharm": {
     "name": "#%%\n"
    }
   },
   "outputs": [
    {
     "data": {
      "text/plain": [
       "Full time          455\n",
       "Contract/Temp       60\n",
       "Part time            5\n",
       "Casual/Vacation      3\n",
       "Name: work_type, dtype: int64"
      ]
     },
     "execution_count": 77,
     "metadata": {},
     "output_type": "execute_result"
    }
   ],
   "source": [
    "df_job.work_type.value_counts()"
   ]
  },
  {
   "cell_type": "code",
   "execution_count": 78,
   "metadata": {
    "pycharm": {
     "name": "#%%\n"
    }
   },
   "outputs": [
    {
     "data": {
      "text/plain": [
       "0                                                   318\n",
       "$25,000 - $29,999                                     6\n",
       "Competitive                                           5\n",
       "$76,260 - $97,454 per annum, plus superannuation      4\n",
       "Permanent role. Benefits. Annual bonus.               4\n",
       "                                                   ... \n",
       "$130,000 - $140,000 + Super + Share Options           1\n",
       "$80,000 - $120,000                                    1\n",
       "Genuine Work Life Balance - competitive salary        1\n",
       "$88592 - $94938 p.a. + plus 17% Super                 1\n",
       "CSS Level 3 $74,253 - $79,890 (pro rata)              1\n",
       "Name: salary, Length: 135, dtype: int64"
      ]
     },
     "execution_count": 78,
     "metadata": {},
     "output_type": "execute_result"
    }
   ],
   "source": [
    "df_job.salary.value_counts()"
   ]
  },
  {
   "cell_type": "code",
   "execution_count": 79,
   "metadata": {
    "pycharm": {
     "name": "#%%\n"
    }
   },
   "outputs": [
    {
     "data": {
      "text/plain": [
       "'<div class=\"yvsb870 _1v38w810\">\\n <p>\\n  <strong>\\n   Make your mark at RQmedia - hiring experienced SEM professionals.\\n  </strong>\\n </p>\\n <p>\\n  <strong>\\n   We are a full funnel - omni channel media agency who specialise in e-commerce.\\n  </strong>\\n </p>\\n <p>\\n  <strong>\\n   No matter where you live, we are interested in talking to you.\\n  </strong>\\n </p>\\n <p>\\n  This is an outstanding opportunity for an experienced SEM exec. Join RQmedia and kick our customers\\' performance goals. \\xa0You need to be results driven, accountable for your strategy and optimisation decisions, be a great communicator and thrive in the fast paced industry.\\n </p>\\n <p>\\n  SEM Advertising executive will have:\\n </p>\\n <ul>\\n  <li>\\n   Proven Google ads implementation for ecommerce over a number of years\\n  </li>\\n  <li>\\n   Customer Results Oriented - the only thing that matters is meeting and exceeding our customers\\' business goals\\n  </li>\\n  <li>\\n   Able to work across a large number of customers\\n  </li>\\n  <li>\\n   Know all Google ad formats and how to optimise them\\n   <br/>\\n   <br/>\\n   <strong>\\n    Required as a minimum:\\n   </strong>\\n  </li>\\n  <li>\\n   5+ years SEM experience\\n  </li>\\n  <li>\\n   Know Google Ads inside out - this is essential\\n  </li>\\n  <li>\\n   Knowledge of Facebook/Instagram advertising an advantage\\n  </li>\\n  <li>\\n   Confident presenter and communicator\\n  </li>\\n  <li>\\n   Ability to deliver\\xa0customer promises and KPIs\\n  </li>\\n  <li>\\n   Excellent English writing ability\\n  </li>\\n  <li>\\n   Excellent communication skills and a team player\\n  </li>\\n  <li>\\n   Ability to manage multiple tasks and meet scheduled due dates\\n  </li>\\n  <li>\\n   Ability to analyse, report and act on data\\n  </li>\\n </ul>\\n <p>\\n  If this sounds like you, and you would like to secure a position in a market-leading media agency , send your\\n  <strong>\\n   resume\\n  </strong>\\n  , a short\\n  <strong>\\n   cover letter\\n  </strong>\\n  via Seek addressing the criteria above.\\n </p>\\n <p>\\n </p>\\n <p>\\n  This job is only open to Australian permanent residents and citizens. No Agencies please.\\n </p>\\n <p>\\n  <br/>\\n </p>\\n</div>'"
      ]
     },
     "execution_count": 79,
     "metadata": {},
     "output_type": "execute_result"
    }
   ],
   "source": [
    "df_job.description[0]"
   ]
  },
  {
   "cell_type": "code",
   "execution_count": 79,
   "metadata": {
    "pycharm": {
     "name": "#%%\n"
    }
   },
   "outputs": [],
   "source": []
  },
  {
   "cell_type": "code",
   "execution_count": 79,
   "metadata": {
    "pycharm": {
     "name": "#%%\n"
    }
   },
   "outputs": [],
   "source": []
  },
  {
   "cell_type": "code",
   "execution_count": null,
   "metadata": {
    "pycharm": {
     "name": "#%%\n"
    }
   },
   "outputs": [],
   "source": []
  }
 ],
 "metadata": {
  "kernelspec": {
   "display_name": "Python 3 (ipykernel)",
   "language": "python",
   "name": "python3"
  },
  "language_info": {
   "codemirror_mode": {
    "name": "ipython",
    "version": 3
   },
   "file_extension": ".py",
   "mimetype": "text/x-python",
   "name": "python",
   "nbconvert_exporter": "python",
   "pygments_lexer": "ipython3",
   "version": "3.9.12"
  }
 },
 "nbformat": 4,
 "nbformat_minor": 1
}
