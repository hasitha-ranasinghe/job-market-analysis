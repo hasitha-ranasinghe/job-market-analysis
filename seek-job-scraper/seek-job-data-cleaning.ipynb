{
 "cells": [
  {
   "cell_type": "code",
   "execution_count": 1,
   "metadata": {
    "collapsed": true
   },
   "outputs": [],
   "source": [
    "import pandas as pd\n",
    "import numpy as np"
   ]
  },
  {
   "cell_type": "code",
   "execution_count": 7,
   "outputs": [],
   "source": [
    "df = pd.read_csv('data/job-links')"
   ],
   "metadata": {
    "collapsed": false,
    "pycharm": {
     "name": "#%%\n"
    }
   }
  },
  {
   "cell_type": "markdown",
   "source": [],
   "metadata": {
    "collapsed": false
   }
  },
  {
   "cell_type": "code",
   "execution_count": 8,
   "outputs": [
    {
     "data": {
      "text/plain": "(528, 1)"
     },
     "execution_count": 8,
     "metadata": {},
     "output_type": "execute_result"
    }
   ],
   "source": [
    "df.shape"
   ],
   "metadata": {
    "collapsed": false,
    "pycharm": {
     "name": "#%%\n"
    }
   }
  },
  {
   "cell_type": "code",
   "execution_count": 9,
   "outputs": [
    {
     "data": {
      "text/plain": "Index(['link'], dtype='object')"
     },
     "execution_count": 9,
     "metadata": {},
     "output_type": "execute_result"
    }
   ],
   "source": [
    "df.columns"
   ],
   "metadata": {
    "collapsed": false,
    "pycharm": {
     "name": "#%%\n"
    }
   }
  },
  {
   "cell_type": "code",
   "execution_count": 10,
   "outputs": [
    {
     "data": {
      "text/plain": "                                                  link\n0    https://www.seek.com.au//job/57009338?type=pro...\n1    https://www.seek.com.au//job/56834934?type=pro...\n2    https://www.seek.com.au//job/57015411?type=sta...\n3    https://www.seek.com.au//job/56903759?type=sta...\n4    https://www.seek.com.au//job/56903760?type=sta...\n..                                                 ...\n523  https://www.seek.com.au//job/56703498?type=sta...\n524  https://www.seek.com.au//job/56696542?type=sta...\n525  https://www.seek.com.au//job/57013164?type=sta...\n526  https://www.seek.com.au//job/56972849?type=sta...\n527  https://www.seek.com.au//job/56953060?type=sta...\n\n[528 rows x 1 columns]",
      "text/html": "<div>\n<style scoped>\n    .dataframe tbody tr th:only-of-type {\n        vertical-align: middle;\n    }\n\n    .dataframe tbody tr th {\n        vertical-align: top;\n    }\n\n    .dataframe thead th {\n        text-align: right;\n    }\n</style>\n<table border=\"1\" class=\"dataframe\">\n  <thead>\n    <tr style=\"text-align: right;\">\n      <th></th>\n      <th>link</th>\n    </tr>\n  </thead>\n  <tbody>\n    <tr>\n      <th>0</th>\n      <td>https://www.seek.com.au//job/57009338?type=pro...</td>\n    </tr>\n    <tr>\n      <th>1</th>\n      <td>https://www.seek.com.au//job/56834934?type=pro...</td>\n    </tr>\n    <tr>\n      <th>2</th>\n      <td>https://www.seek.com.au//job/57015411?type=sta...</td>\n    </tr>\n    <tr>\n      <th>3</th>\n      <td>https://www.seek.com.au//job/56903759?type=sta...</td>\n    </tr>\n    <tr>\n      <th>4</th>\n      <td>https://www.seek.com.au//job/56903760?type=sta...</td>\n    </tr>\n    <tr>\n      <th>...</th>\n      <td>...</td>\n    </tr>\n    <tr>\n      <th>523</th>\n      <td>https://www.seek.com.au//job/56703498?type=sta...</td>\n    </tr>\n    <tr>\n      <th>524</th>\n      <td>https://www.seek.com.au//job/56696542?type=sta...</td>\n    </tr>\n    <tr>\n      <th>525</th>\n      <td>https://www.seek.com.au//job/57013164?type=sta...</td>\n    </tr>\n    <tr>\n      <th>526</th>\n      <td>https://www.seek.com.au//job/56972849?type=sta...</td>\n    </tr>\n    <tr>\n      <th>527</th>\n      <td>https://www.seek.com.au//job/56953060?type=sta...</td>\n    </tr>\n  </tbody>\n</table>\n<p>528 rows × 1 columns</p>\n</div>"
     },
     "execution_count": 10,
     "metadata": {},
     "output_type": "execute_result"
    }
   ],
   "source": [
    "df"
   ],
   "metadata": {
    "collapsed": false,
    "pycharm": {
     "name": "#%%\n"
    }
   }
  },
  {
   "cell_type": "code",
   "execution_count": 30,
   "outputs": [
    {
     "data": {
      "text/plain": "https://www.seek.com.au//job/56797319?type=promoted    3\nhttps://www.seek.com.au//job/56703498?type=promoted    3\nhttps://www.seek.com.au//job/56977806?type=promoted    3\nhttps://www.seek.com.au//job/57010204?type=promoted    3\nhttps://www.seek.com.au//job/56903744?type=promoted    2\n                                                      ..\nhttps://www.seek.com.au//job/56958493?type=standard    1\nhttps://www.seek.com.au//job/56801787?type=standout    1\nhttps://www.seek.com.au//job/56972236?type=standout    1\nhttps://www.seek.com.au//job/56697889?type=standout    1\nhttps://www.seek.com.au//job/56953060?type=standout    1\nName: link, Length: 511, dtype: int64"
     },
     "execution_count": 30,
     "metadata": {},
     "output_type": "execute_result"
    }
   ],
   "source": [
    "df['link'].value_counts()"
   ],
   "metadata": {
    "collapsed": false,
    "pycharm": {
     "name": "#%%\n"
    }
   }
  },
  {
   "cell_type": "code",
   "execution_count": 66,
   "outputs": [],
   "source": [
    "df_job = pd.read_csv('data/job-content.csv')"
   ],
   "metadata": {
    "collapsed": false,
    "pycharm": {
     "name": "#%%\n"
    }
   }
  },
  {
   "cell_type": "code",
   "execution_count": 67,
   "outputs": [
    {
     "data": {
      "text/plain": "                                               title  \\\n0                      RQmedia - SEM expert - Google   \n1  Applied Intelligence Support (Data Hub, AiOps,...   \n2                                Senior Data Analyst   \n3             ASO6 Data Analyst (Multiple Positions)   \n4             ASO6 Data Analyst (Multiple Positions)   \n\n                                  company  location  \\\n0                        Dynamic Creative  Adelaide   \n1  DXC Technology Australia & New Zealand  Adelaide   \n2                               SA Health  Adelaide   \n3                Department for Education  Adelaide   \n4                Department for Education  Adelaide   \n\n                           classification  \\\n0              Marketing & Communications   \n1  Information & Communication Technology   \n2  Information & Communication Technology   \n3                    Science & Technology   \n4                    Government & Defence   \n\n                               sub_classification salary      work_type  \\\n0                      Digital & Search Marketing      0      Full time   \n1                       Business/Systems Analysts      0      Full time   \n2                       Business/Systems Analysts      0      Full time   \n3  Mathematics, Statistics & Information Sciences      0  Contract/Temp   \n4                              Government - State      0  Contract/Temp   \n\n  posted_date                                        description  \n0          2d  <div class=\"yvsb870 _1v38w810\">\\n <p>\\n  <stro...  \n1         16d  <div class=\"yvsb870 _1v38w810\">\\n <p>\\n  DXC T...  \n2          2d  <div class=\"yvsb870 _1v38w810\">\\n <ul>\\n  <li>...  \n3         10d  <div class=\"yvsb870 _1v38w810\">\\n <p>\\n  The D...  \n4         10d  <div class=\"yvsb870 _1v38w810\">\\n <p>\\n  The D...  ",
      "text/html": "<div>\n<style scoped>\n    .dataframe tbody tr th:only-of-type {\n        vertical-align: middle;\n    }\n\n    .dataframe tbody tr th {\n        vertical-align: top;\n    }\n\n    .dataframe thead th {\n        text-align: right;\n    }\n</style>\n<table border=\"1\" class=\"dataframe\">\n  <thead>\n    <tr style=\"text-align: right;\">\n      <th></th>\n      <th>title</th>\n      <th>company</th>\n      <th>location</th>\n      <th>classification</th>\n      <th>sub_classification</th>\n      <th>salary</th>\n      <th>work_type</th>\n      <th>posted_date</th>\n      <th>description</th>\n    </tr>\n  </thead>\n  <tbody>\n    <tr>\n      <th>0</th>\n      <td>RQmedia - SEM expert - Google</td>\n      <td>Dynamic Creative</td>\n      <td>Adelaide</td>\n      <td>Marketing &amp; Communications</td>\n      <td>Digital &amp; Search Marketing</td>\n      <td>0</td>\n      <td>Full time</td>\n      <td>2d</td>\n      <td>&lt;div class=\"yvsb870 _1v38w810\"&gt;\\n &lt;p&gt;\\n  &lt;stro...</td>\n    </tr>\n    <tr>\n      <th>1</th>\n      <td>Applied Intelligence Support (Data Hub, AiOps,...</td>\n      <td>DXC Technology Australia &amp; New Zealand</td>\n      <td>Adelaide</td>\n      <td>Information &amp; Communication Technology</td>\n      <td>Business/Systems Analysts</td>\n      <td>0</td>\n      <td>Full time</td>\n      <td>16d</td>\n      <td>&lt;div class=\"yvsb870 _1v38w810\"&gt;\\n &lt;p&gt;\\n  DXC T...</td>\n    </tr>\n    <tr>\n      <th>2</th>\n      <td>Senior Data Analyst</td>\n      <td>SA Health</td>\n      <td>Adelaide</td>\n      <td>Information &amp; Communication Technology</td>\n      <td>Business/Systems Analysts</td>\n      <td>0</td>\n      <td>Full time</td>\n      <td>2d</td>\n      <td>&lt;div class=\"yvsb870 _1v38w810\"&gt;\\n &lt;ul&gt;\\n  &lt;li&gt;...</td>\n    </tr>\n    <tr>\n      <th>3</th>\n      <td>ASO6 Data Analyst (Multiple Positions)</td>\n      <td>Department for Education</td>\n      <td>Adelaide</td>\n      <td>Science &amp; Technology</td>\n      <td>Mathematics, Statistics &amp; Information Sciences</td>\n      <td>0</td>\n      <td>Contract/Temp</td>\n      <td>10d</td>\n      <td>&lt;div class=\"yvsb870 _1v38w810\"&gt;\\n &lt;p&gt;\\n  The D...</td>\n    </tr>\n    <tr>\n      <th>4</th>\n      <td>ASO6 Data Analyst (Multiple Positions)</td>\n      <td>Department for Education</td>\n      <td>Adelaide</td>\n      <td>Government &amp; Defence</td>\n      <td>Government - State</td>\n      <td>0</td>\n      <td>Contract/Temp</td>\n      <td>10d</td>\n      <td>&lt;div class=\"yvsb870 _1v38w810\"&gt;\\n &lt;p&gt;\\n  The D...</td>\n    </tr>\n  </tbody>\n</table>\n</div>"
     },
     "execution_count": 67,
     "metadata": {},
     "output_type": "execute_result"
    }
   ],
   "source": [
    "df_job.head()"
   ],
   "metadata": {
    "collapsed": false,
    "pycharm": {
     "name": "#%%\n"
    }
   }
  },
  {
   "cell_type": "code",
   "execution_count": 68,
   "outputs": [
    {
     "data": {
      "text/plain": "(523, 9)"
     },
     "execution_count": 68,
     "metadata": {},
     "output_type": "execute_result"
    }
   ],
   "source": [
    "df_job.shape"
   ],
   "metadata": {
    "collapsed": false,
    "pycharm": {
     "name": "#%%\n"
    }
   }
  },
  {
   "cell_type": "code",
   "execution_count": 69,
   "outputs": [
    {
     "data": {
      "text/plain": "                                                 title  \\\n0                        RQmedia - SEM expert - Google   \n1    Applied Intelligence Support (Data Hub, AiOps,...   \n2                                  Senior Data Analyst   \n3               ASO6 Data Analyst (Multiple Positions)   \n4               ASO6 Data Analyst (Multiple Positions)   \n..                                                 ...   \n518            Property Operations Support Coordinator   \n519  Postdoctoral Researcer, Bioinformatics and Hum...   \n520                     Procurement/Purchasing Manager   \n521                           Senior Software Engineer   \n522  Data Officer- Wellness Connect National Psycho...   \n\n                                    company  location  \\\n0                          Dynamic Creative  Adelaide   \n1    DXC Technology Australia & New Zealand  Adelaide   \n2                                 SA Health  Adelaide   \n3                  Department for Education  Adelaide   \n4                  Department for Education  Adelaide   \n..                                      ...       ...   \n518                  Yugo Australia Pty Ltd  Adelaide   \n519                                  SAHMRI  Adelaide   \n520                      Private Advertiser  Adelaide   \n521                      Miniprobes Pty Ltd  Adelaide   \n522                  Neami National Limited  Adelaide   \n\n                             classification  \\\n0                Marketing & Communications   \n1    Information & Communication Technology   \n2    Information & Communication Technology   \n3                      Science & Technology   \n4                      Government & Defence   \n..                                      ...   \n518         Administration & Office Support   \n519                    Science & Technology   \n520    Manufacturing, Transport & Logistics   \n521  Information & Communication Technology   \n522        Community Services & Development   \n\n                                 sub_classification  \\\n0                        Digital & Search Marketing   \n1                         Business/Systems Analysts   \n2                         Business/Systems Analysts   \n3    Mathematics, Statistics & Information Sciences   \n4                                Government - State   \n..                                              ...   \n518                       Administrative Assistants   \n519                Biological & Biomedical Sciences   \n520                                      Management   \n521                          Engineering - Software   \n522                           Community Development   \n\n                                                salary      work_type  \\\n0                                                    0      Full time   \n1                                                    0      Full time   \n2                                                    0      Full time   \n3                                                    0  Contract/Temp   \n4                                                    0  Contract/Temp   \n..                                                 ...            ...   \n518                                                  0  Contract/Temp   \n519  $75,000 - $95,000 + super (with salary packaging)      Full time   \n520                                                  0      Full time   \n521                                $100,000 - $145,000      Full time   \n522           CSS Level 3 $74,253 - $79,890 (pro rata)      Part time   \n\n    posted_date                                        description  \n0            2d  <div class=\"yvsb870 _1v38w810\">\\n <p>\\n  <stro...  \n1           16d  <div class=\"yvsb870 _1v38w810\">\\n <p>\\n  DXC T...  \n2            2d  <div class=\"yvsb870 _1v38w810\">\\n <ul>\\n  <li>...  \n3           10d  <div class=\"yvsb870 _1v38w810\">\\n <p>\\n  The D...  \n4           10d  <div class=\"yvsb870 _1v38w810\">\\n <p>\\n  The D...  \n..          ...                                                ...  \n518         28d  <div class=\"yvsb870 _1v38w810\">\\n <p>\\n  Yugo ...  \n519         28d  <div class=\"yvsb870 _1v38w810\">\\n <p>\\n  <stro...  \n520          2d  <div class=\"yvsb870 _1v38w810\">\\n <p>\\n </p>\\n...  \n521          6d  <div class=\"yvsb870 _1v38w810\">\\n <p>\\n  Do yo...  \n522          7d  <div class=\"yvsb870 _1v38w810\">\\n <p>\\n  <stro...  \n\n[523 rows x 9 columns]",
      "text/html": "<div>\n<style scoped>\n    .dataframe tbody tr th:only-of-type {\n        vertical-align: middle;\n    }\n\n    .dataframe tbody tr th {\n        vertical-align: top;\n    }\n\n    .dataframe thead th {\n        text-align: right;\n    }\n</style>\n<table border=\"1\" class=\"dataframe\">\n  <thead>\n    <tr style=\"text-align: right;\">\n      <th></th>\n      <th>title</th>\n      <th>company</th>\n      <th>location</th>\n      <th>classification</th>\n      <th>sub_classification</th>\n      <th>salary</th>\n      <th>work_type</th>\n      <th>posted_date</th>\n      <th>description</th>\n    </tr>\n  </thead>\n  <tbody>\n    <tr>\n      <th>0</th>\n      <td>RQmedia - SEM expert - Google</td>\n      <td>Dynamic Creative</td>\n      <td>Adelaide</td>\n      <td>Marketing &amp; Communications</td>\n      <td>Digital &amp; Search Marketing</td>\n      <td>0</td>\n      <td>Full time</td>\n      <td>2d</td>\n      <td>&lt;div class=\"yvsb870 _1v38w810\"&gt;\\n &lt;p&gt;\\n  &lt;stro...</td>\n    </tr>\n    <tr>\n      <th>1</th>\n      <td>Applied Intelligence Support (Data Hub, AiOps,...</td>\n      <td>DXC Technology Australia &amp; New Zealand</td>\n      <td>Adelaide</td>\n      <td>Information &amp; Communication Technology</td>\n      <td>Business/Systems Analysts</td>\n      <td>0</td>\n      <td>Full time</td>\n      <td>16d</td>\n      <td>&lt;div class=\"yvsb870 _1v38w810\"&gt;\\n &lt;p&gt;\\n  DXC T...</td>\n    </tr>\n    <tr>\n      <th>2</th>\n      <td>Senior Data Analyst</td>\n      <td>SA Health</td>\n      <td>Adelaide</td>\n      <td>Information &amp; Communication Technology</td>\n      <td>Business/Systems Analysts</td>\n      <td>0</td>\n      <td>Full time</td>\n      <td>2d</td>\n      <td>&lt;div class=\"yvsb870 _1v38w810\"&gt;\\n &lt;ul&gt;\\n  &lt;li&gt;...</td>\n    </tr>\n    <tr>\n      <th>3</th>\n      <td>ASO6 Data Analyst (Multiple Positions)</td>\n      <td>Department for Education</td>\n      <td>Adelaide</td>\n      <td>Science &amp; Technology</td>\n      <td>Mathematics, Statistics &amp; Information Sciences</td>\n      <td>0</td>\n      <td>Contract/Temp</td>\n      <td>10d</td>\n      <td>&lt;div class=\"yvsb870 _1v38w810\"&gt;\\n &lt;p&gt;\\n  The D...</td>\n    </tr>\n    <tr>\n      <th>4</th>\n      <td>ASO6 Data Analyst (Multiple Positions)</td>\n      <td>Department for Education</td>\n      <td>Adelaide</td>\n      <td>Government &amp; Defence</td>\n      <td>Government - State</td>\n      <td>0</td>\n      <td>Contract/Temp</td>\n      <td>10d</td>\n      <td>&lt;div class=\"yvsb870 _1v38w810\"&gt;\\n &lt;p&gt;\\n  The D...</td>\n    </tr>\n    <tr>\n      <th>...</th>\n      <td>...</td>\n      <td>...</td>\n      <td>...</td>\n      <td>...</td>\n      <td>...</td>\n      <td>...</td>\n      <td>...</td>\n      <td>...</td>\n      <td>...</td>\n    </tr>\n    <tr>\n      <th>518</th>\n      <td>Property Operations Support Coordinator</td>\n      <td>Yugo Australia Pty Ltd</td>\n      <td>Adelaide</td>\n      <td>Administration &amp; Office Support</td>\n      <td>Administrative Assistants</td>\n      <td>0</td>\n      <td>Contract/Temp</td>\n      <td>28d</td>\n      <td>&lt;div class=\"yvsb870 _1v38w810\"&gt;\\n &lt;p&gt;\\n  Yugo ...</td>\n    </tr>\n    <tr>\n      <th>519</th>\n      <td>Postdoctoral Researcer, Bioinformatics and Hum...</td>\n      <td>SAHMRI</td>\n      <td>Adelaide</td>\n      <td>Science &amp; Technology</td>\n      <td>Biological &amp; Biomedical Sciences</td>\n      <td>$75,000 - $95,000 + super (with salary packaging)</td>\n      <td>Full time</td>\n      <td>28d</td>\n      <td>&lt;div class=\"yvsb870 _1v38w810\"&gt;\\n &lt;p&gt;\\n  &lt;stro...</td>\n    </tr>\n    <tr>\n      <th>520</th>\n      <td>Procurement/Purchasing Manager</td>\n      <td>Private Advertiser</td>\n      <td>Adelaide</td>\n      <td>Manufacturing, Transport &amp; Logistics</td>\n      <td>Management</td>\n      <td>0</td>\n      <td>Full time</td>\n      <td>2d</td>\n      <td>&lt;div class=\"yvsb870 _1v38w810\"&gt;\\n &lt;p&gt;\\n &lt;/p&gt;\\n...</td>\n    </tr>\n    <tr>\n      <th>521</th>\n      <td>Senior Software Engineer</td>\n      <td>Miniprobes Pty Ltd</td>\n      <td>Adelaide</td>\n      <td>Information &amp; Communication Technology</td>\n      <td>Engineering - Software</td>\n      <td>$100,000 - $145,000</td>\n      <td>Full time</td>\n      <td>6d</td>\n      <td>&lt;div class=\"yvsb870 _1v38w810\"&gt;\\n &lt;p&gt;\\n  Do yo...</td>\n    </tr>\n    <tr>\n      <th>522</th>\n      <td>Data Officer- Wellness Connect National Psycho...</td>\n      <td>Neami National Limited</td>\n      <td>Adelaide</td>\n      <td>Community Services &amp; Development</td>\n      <td>Community Development</td>\n      <td>CSS Level 3 $74,253 - $79,890 (pro rata)</td>\n      <td>Part time</td>\n      <td>7d</td>\n      <td>&lt;div class=\"yvsb870 _1v38w810\"&gt;\\n &lt;p&gt;\\n  &lt;stro...</td>\n    </tr>\n  </tbody>\n</table>\n<p>523 rows × 9 columns</p>\n</div>"
     },
     "execution_count": 69,
     "metadata": {},
     "output_type": "execute_result"
    }
   ],
   "source": [
    "df_job"
   ],
   "metadata": {
    "collapsed": false,
    "pycharm": {
     "name": "#%%\n"
    }
   }
  },
  {
   "cell_type": "code",
   "execution_count": 70,
   "outputs": [
    {
     "data": {
      "text/plain": "Index(['title', 'company', 'location', 'classification', 'sub_classification',\n       'salary', 'work_type', 'posted_date', 'description'],\n      dtype='object')"
     },
     "execution_count": 70,
     "metadata": {},
     "output_type": "execute_result"
    }
   ],
   "source": [
    "df_job.columns"
   ],
   "metadata": {
    "collapsed": false,
    "pycharm": {
     "name": "#%%\n"
    }
   }
  },
  {
   "cell_type": "code",
   "execution_count": 71,
   "outputs": [
    {
     "data": {
      "text/plain": "Adelaide    523\nName: location, dtype: int64"
     },
     "execution_count": 71,
     "metadata": {},
     "output_type": "execute_result"
    }
   ],
   "source": [
    "df_job.location.value_counts()"
   ],
   "metadata": {
    "collapsed": false,
    "pycharm": {
     "name": "#%%\n"
    }
   }
  },
  {
   "cell_type": "code",
   "execution_count": 72,
   "outputs": [
    {
     "data": {
      "text/plain": "Information & Communication Technology    196\nGovernment & Defence                       71\nAccounting                                 39\nScience & Technology                       29\nEducation & Training                       28\nMarketing & Communications                 20\nAdministration & Office Support            17\nConsulting & Strategy                      16\nManufacturing, Transport & Logistics       13\nBanking & Financial Services               12\nHealthcare & Medical                       10\nEngineering                                10\nHuman Resources & Recruitment               8\nCall Centre & Customer Service              8\nSales                                       6\nMining, Resources & Energy                  6\nTrades & Services                           5\nConstruction                                5\nReal Estate & Property                      4\nLegal                                       3\nRetail & Consumer Products                  3\nDesign & Architecture                       3\nCommunity Services & Development            3\nInsurance & Superannuation                  3\nHospitality & Tourism                       2\nFarming, Animals & Conservation             1\nAdvertising, Arts & Media                   1\nSport & Recreation                          1\nName: classification, dtype: int64"
     },
     "execution_count": 72,
     "metadata": {},
     "output_type": "execute_result"
    }
   ],
   "source": [
    "df_job.classification.value_counts()"
   ],
   "metadata": {
    "collapsed": false,
    "pycharm": {
     "name": "#%%\n"
    }
   }
  },
  {
   "cell_type": "code",
   "execution_count": 73,
   "outputs": [
    {
     "data": {
      "text/plain": "Business/Systems Analysts    62\nOther                        51\nGovernment - Federal         26\nGovernment - State           24\nEngineering - Software       20\n                             ..\nMerchandisers                 1\nWeb & Interaction Design      1\nRecruitment - Internal        1\nTeaching - Tertiary           1\nCommunity Development         1\nName: sub_classification, Length: 105, dtype: int64"
     },
     "execution_count": 73,
     "metadata": {},
     "output_type": "execute_result"
    }
   ],
   "source": [
    "df_job.sub_classification.value_counts()"
   ],
   "metadata": {
    "collapsed": false,
    "pycharm": {
     "name": "#%%\n"
    }
   }
  },
  {
   "cell_type": "code",
   "execution_count": 74,
   "outputs": [
    {
     "data": {
      "text/plain": "Department of Defence                                           22\nUniversity of South Australia                                   16\nSA Health                                                       13\nTalent – SEEK Recruitment Agency of the Year | 7 Time Winner    10\nRobert Walters                                                  10\n                                                                ..\nSynaco Global Recruitment Pty Ltd                                1\nTactic Lab Pty Ltd                                               1\nCobham Aviation Services Australia                               1\nJonas Software Australia                                         1\nNeami National Limited                                           1\nName: company, Length: 242, dtype: int64"
     },
     "execution_count": 74,
     "metadata": {},
     "output_type": "execute_result"
    }
   ],
   "source": [
    "df_job.company.value_counts()"
   ],
   "metadata": {
    "collapsed": false,
    "pycharm": {
     "name": "#%%\n"
    }
   }
  },
  {
   "cell_type": "code",
   "execution_count": 75,
   "outputs": [
    {
     "data": {
      "text/plain": "6d      46\n2d      38\n8d      36\n15d     33\n9d      30\n13d     29\n16d     28\n10d     27\n7d      24\n22d     23\n20d     23\n1d      23\n14d     22\n28d     19\n21d     18\n3d      18\n23d     18\n17d     15\n27d     13\n29d      8\n9h       6\n8h       5\n30d+     4\n25d      3\n5d       3\n6        1\n7h       1\n12d      1\n26d      1\n11d      1\n18d      1\n4d       1\n5h       1\n23h      1\n21h      1\n6h       1\nName: posted_date, dtype: int64"
     },
     "execution_count": 75,
     "metadata": {},
     "output_type": "execute_result"
    }
   ],
   "source": [
    "df_job.posted_date.value_counts()"
   ],
   "metadata": {
    "collapsed": false,
    "pycharm": {
     "name": "#%%\n"
    }
   }
  },
  {
   "cell_type": "code",
   "execution_count": 76,
   "outputs": [
    {
     "data": {
      "text/plain": "                                               title  \\\n0                      RQmedia - SEM expert - Google   \n1  Applied Intelligence Support (Data Hub, AiOps,...   \n2                                Senior Data Analyst   \n3             ASO6 Data Analyst (Multiple Positions)   \n4             ASO6 Data Analyst (Multiple Positions)   \n\n                                  company  location  \\\n0                        Dynamic Creative  Adelaide   \n1  DXC Technology Australia & New Zealand  Adelaide   \n2                               SA Health  Adelaide   \n3                Department for Education  Adelaide   \n4                Department for Education  Adelaide   \n\n                           classification  \\\n0              Marketing & Communications   \n1  Information & Communication Technology   \n2  Information & Communication Technology   \n3                    Science & Technology   \n4                    Government & Defence   \n\n                               sub_classification salary      work_type  \\\n0                      Digital & Search Marketing      0      Full time   \n1                       Business/Systems Analysts      0      Full time   \n2                       Business/Systems Analysts      0      Full time   \n3  Mathematics, Statistics & Information Sciences      0  Contract/Temp   \n4                              Government - State      0  Contract/Temp   \n\n  posted_date                                        description  \n0          2d  <div class=\"yvsb870 _1v38w810\">\\n <p>\\n  <stro...  \n1         16d  <div class=\"yvsb870 _1v38w810\">\\n <p>\\n  DXC T...  \n2          2d  <div class=\"yvsb870 _1v38w810\">\\n <ul>\\n  <li>...  \n3         10d  <div class=\"yvsb870 _1v38w810\">\\n <p>\\n  The D...  \n4         10d  <div class=\"yvsb870 _1v38w810\">\\n <p>\\n  The D...  ",
      "text/html": "<div>\n<style scoped>\n    .dataframe tbody tr th:only-of-type {\n        vertical-align: middle;\n    }\n\n    .dataframe tbody tr th {\n        vertical-align: top;\n    }\n\n    .dataframe thead th {\n        text-align: right;\n    }\n</style>\n<table border=\"1\" class=\"dataframe\">\n  <thead>\n    <tr style=\"text-align: right;\">\n      <th></th>\n      <th>title</th>\n      <th>company</th>\n      <th>location</th>\n      <th>classification</th>\n      <th>sub_classification</th>\n      <th>salary</th>\n      <th>work_type</th>\n      <th>posted_date</th>\n      <th>description</th>\n    </tr>\n  </thead>\n  <tbody>\n    <tr>\n      <th>0</th>\n      <td>RQmedia - SEM expert - Google</td>\n      <td>Dynamic Creative</td>\n      <td>Adelaide</td>\n      <td>Marketing &amp; Communications</td>\n      <td>Digital &amp; Search Marketing</td>\n      <td>0</td>\n      <td>Full time</td>\n      <td>2d</td>\n      <td>&lt;div class=\"yvsb870 _1v38w810\"&gt;\\n &lt;p&gt;\\n  &lt;stro...</td>\n    </tr>\n    <tr>\n      <th>1</th>\n      <td>Applied Intelligence Support (Data Hub, AiOps,...</td>\n      <td>DXC Technology Australia &amp; New Zealand</td>\n      <td>Adelaide</td>\n      <td>Information &amp; Communication Technology</td>\n      <td>Business/Systems Analysts</td>\n      <td>0</td>\n      <td>Full time</td>\n      <td>16d</td>\n      <td>&lt;div class=\"yvsb870 _1v38w810\"&gt;\\n &lt;p&gt;\\n  DXC T...</td>\n    </tr>\n    <tr>\n      <th>2</th>\n      <td>Senior Data Analyst</td>\n      <td>SA Health</td>\n      <td>Adelaide</td>\n      <td>Information &amp; Communication Technology</td>\n      <td>Business/Systems Analysts</td>\n      <td>0</td>\n      <td>Full time</td>\n      <td>2d</td>\n      <td>&lt;div class=\"yvsb870 _1v38w810\"&gt;\\n &lt;ul&gt;\\n  &lt;li&gt;...</td>\n    </tr>\n    <tr>\n      <th>3</th>\n      <td>ASO6 Data Analyst (Multiple Positions)</td>\n      <td>Department for Education</td>\n      <td>Adelaide</td>\n      <td>Science &amp; Technology</td>\n      <td>Mathematics, Statistics &amp; Information Sciences</td>\n      <td>0</td>\n      <td>Contract/Temp</td>\n      <td>10d</td>\n      <td>&lt;div class=\"yvsb870 _1v38w810\"&gt;\\n &lt;p&gt;\\n  The D...</td>\n    </tr>\n    <tr>\n      <th>4</th>\n      <td>ASO6 Data Analyst (Multiple Positions)</td>\n      <td>Department for Education</td>\n      <td>Adelaide</td>\n      <td>Government &amp; Defence</td>\n      <td>Government - State</td>\n      <td>0</td>\n      <td>Contract/Temp</td>\n      <td>10d</td>\n      <td>&lt;div class=\"yvsb870 _1v38w810\"&gt;\\n &lt;p&gt;\\n  The D...</td>\n    </tr>\n  </tbody>\n</table>\n</div>"
     },
     "execution_count": 76,
     "metadata": {},
     "output_type": "execute_result"
    }
   ],
   "source": [
    "df_job.head()"
   ],
   "metadata": {
    "collapsed": false,
    "pycharm": {
     "name": "#%%\n"
    }
   }
  },
  {
   "cell_type": "code",
   "execution_count": 77,
   "outputs": [
    {
     "data": {
      "text/plain": "Full time          455\nContract/Temp       60\nPart time            5\nCasual/Vacation      3\nName: work_type, dtype: int64"
     },
     "execution_count": 77,
     "metadata": {},
     "output_type": "execute_result"
    }
   ],
   "source": [
    "df_job.work_type.value_counts()"
   ],
   "metadata": {
    "collapsed": false,
    "pycharm": {
     "name": "#%%\n"
    }
   }
  },
  {
   "cell_type": "code",
   "execution_count": 78,
   "outputs": [
    {
     "data": {
      "text/plain": "0                                                   318\n$25,000 - $29,999                                     6\nCompetitive                                           5\n$76,260 - $97,454 per annum, plus superannuation      4\nPermanent role. Benefits. Annual bonus.               4\n                                                   ... \n$130,000 - $140,000 + Super + Share Options           1\n$80,000 - $120,000                                    1\nGenuine Work Life Balance - competitive salary        1\n$88592 - $94938 p.a. + plus 17% Super                 1\nCSS Level 3 $74,253 - $79,890 (pro rata)              1\nName: salary, Length: 135, dtype: int64"
     },
     "execution_count": 78,
     "metadata": {},
     "output_type": "execute_result"
    }
   ],
   "source": [
    "df_job.salary.value_counts()"
   ],
   "metadata": {
    "collapsed": false,
    "pycharm": {
     "name": "#%%\n"
    }
   }
  },
  {
   "cell_type": "code",
   "execution_count": 79,
   "outputs": [
    {
     "data": {
      "text/plain": "'<div class=\"yvsb870 _1v38w810\">\\n <p>\\n  <strong>\\n   Make your mark at RQmedia - hiring experienced SEM professionals.\\n  </strong>\\n </p>\\n <p>\\n  <strong>\\n   We are a full funnel - omni channel media agency who specialise in e-commerce.\\n  </strong>\\n </p>\\n <p>\\n  <strong>\\n   No matter where you live, we are interested in talking to you.\\n  </strong>\\n </p>\\n <p>\\n  This is an outstanding opportunity for an experienced SEM exec. Join RQmedia and kick our customers\\' performance goals. \\xa0You need to be results driven, accountable for your strategy and optimisation decisions, be a great communicator and thrive in the fast paced industry.\\n </p>\\n <p>\\n  SEM Advertising executive will have:\\n </p>\\n <ul>\\n  <li>\\n   Proven Google ads implementation for ecommerce over a number of years\\n  </li>\\n  <li>\\n   Customer Results Oriented - the only thing that matters is meeting and exceeding our customers\\' business goals\\n  </li>\\n  <li>\\n   Able to work across a large number of customers\\n  </li>\\n  <li>\\n   Know all Google ad formats and how to optimise them\\n   <br/>\\n   <br/>\\n   <strong>\\n    Required as a minimum:\\n   </strong>\\n  </li>\\n  <li>\\n   5+ years SEM experience\\n  </li>\\n  <li>\\n   Know Google Ads inside out - this is essential\\n  </li>\\n  <li>\\n   Knowledge of Facebook/Instagram advertising an advantage\\n  </li>\\n  <li>\\n   Confident presenter and communicator\\n  </li>\\n  <li>\\n   Ability to deliver\\xa0customer promises and KPIs\\n  </li>\\n  <li>\\n   Excellent English writing ability\\n  </li>\\n  <li>\\n   Excellent communication skills and a team player\\n  </li>\\n  <li>\\n   Ability to manage multiple tasks and meet scheduled due dates\\n  </li>\\n  <li>\\n   Ability to analyse, report and act on data\\n  </li>\\n </ul>\\n <p>\\n  If this sounds like you, and you would like to secure a position in a market-leading media agency , send your\\n  <strong>\\n   resume\\n  </strong>\\n  , a short\\n  <strong>\\n   cover letter\\n  </strong>\\n  via Seek addressing the criteria above.\\n </p>\\n <p>\\n </p>\\n <p>\\n  This job is only open to Australian permanent residents and citizens. No Agencies please.\\n </p>\\n <p>\\n  <br/>\\n </p>\\n</div>'"
     },
     "execution_count": 79,
     "metadata": {},
     "output_type": "execute_result"
    }
   ],
   "source": [
    "df_job.description[0]"
   ],
   "metadata": {
    "collapsed": false,
    "pycharm": {
     "name": "#%%\n"
    }
   }
  },
  {
   "cell_type": "code",
   "execution_count": 79,
   "outputs": [],
   "source": [],
   "metadata": {
    "collapsed": false,
    "pycharm": {
     "name": "#%%\n"
    }
   }
  },
  {
   "cell_type": "code",
   "execution_count": 79,
   "outputs": [],
   "source": [],
   "metadata": {
    "collapsed": false,
    "pycharm": {
     "name": "#%%\n"
    }
   }
  },
  {
   "cell_type": "code",
   "execution_count": null,
   "outputs": [],
   "source": [],
   "metadata": {
    "collapsed": false,
    "pycharm": {
     "name": "#%%\n"
    }
   }
  }
 ],
 "metadata": {
  "kernelspec": {
   "display_name": "Python 3",
   "language": "python",
   "name": "python3"
  },
  "language_info": {
   "codemirror_mode": {
    "name": "ipython",
    "version": 2
   },
   "file_extension": ".py",
   "mimetype": "text/x-python",
   "name": "python",
   "nbconvert_exporter": "python",
   "pygments_lexer": "ipython2",
   "version": "2.7.6"
  }
 },
 "nbformat": 4,
 "nbformat_minor": 0
}