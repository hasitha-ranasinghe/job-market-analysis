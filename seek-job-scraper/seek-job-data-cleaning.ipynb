{
 "cells": [
  {
   "cell_type": "code",
   "execution_count": 14,
   "metadata": {},
   "outputs": [],
   "source": [
    "import pandas as pd\n",
    "import numpy as np"
   ]
  },
  {
   "cell_type": "code",
   "execution_count": 28,
   "metadata": {
    "pycharm": {
     "name": "#%%\n"
    }
   },
   "outputs": [],
   "source": [
    "df = pd.read_csv('data/job-content.csv')"
   ]
  },
  {
   "cell_type": "code",
   "execution_count": 29,
   "metadata": {
    "pycharm": {
     "name": "#%%\n"
    }
   },
   "outputs": [
    {
     "data": {
      "text/plain": [
       "(88, 9)"
      ]
     },
     "execution_count": 29,
     "metadata": {},
     "output_type": "execute_result"
    }
   ],
   "source": [
    "df.shape"
   ]
  },
  {
   "cell_type": "code",
   "execution_count": 30,
   "metadata": {
    "pycharm": {
     "name": "#%%\n"
    }
   },
   "outputs": [
    {
     "data": {
      "text/html": [
       "<div>\n",
       "<style scoped>\n",
       "    .dataframe tbody tr th:only-of-type {\n",
       "        vertical-align: middle;\n",
       "    }\n",
       "\n",
       "    .dataframe tbody tr th {\n",
       "        vertical-align: top;\n",
       "    }\n",
       "\n",
       "    .dataframe thead th {\n",
       "        text-align: right;\n",
       "    }\n",
       "</style>\n",
       "<table border=\"1\" class=\"dataframe\">\n",
       "  <thead>\n",
       "    <tr style=\"text-align: right;\">\n",
       "      <th></th>\n",
       "      <th>title</th>\n",
       "      <th>company</th>\n",
       "      <th>location</th>\n",
       "      <th>classification</th>\n",
       "      <th>sub_classification</th>\n",
       "      <th>salary</th>\n",
       "      <th>work_type</th>\n",
       "      <th>posted_date</th>\n",
       "      <th>description</th>\n",
       "    </tr>\n",
       "  </thead>\n",
       "  <tbody>\n",
       "    <tr>\n",
       "      <th>0</th>\n",
       "      <td>Data Consultant (SA/WA/NT)</td>\n",
       "      <td>Australian Research Data Commons</td>\n",
       "      <td>Adelaide</td>\n",
       "      <td>Education &amp; Training</td>\n",
       "      <td>Library Services &amp; Information Management</td>\n",
       "      <td>University of Adelaide HEO8 ($100,261 - $112,481)</td>\n",
       "      <td>Contract/Temp</td>\n",
       "      <td>8h</td>\n",
       "      <td>&lt;div class=\"yvsb870 _1v38w810\"&gt;\\n &lt;p&gt;\\n  The A...</td>\n",
       "    </tr>\n",
       "    <tr>\n",
       "      <th>1</th>\n",
       "      <td>RQmedia - SEM expert - Google</td>\n",
       "      <td>Dynamic Creative</td>\n",
       "      <td>Adelaide</td>\n",
       "      <td>Marketing &amp; Communications</td>\n",
       "      <td>Digital &amp; Search Marketing</td>\n",
       "      <td>0</td>\n",
       "      <td>Full time</td>\n",
       "      <td>2d</td>\n",
       "      <td>&lt;div class=\"yvsb870 _1v38w810\"&gt;\\n &lt;p&gt;\\n  &lt;stro...</td>\n",
       "    </tr>\n",
       "    <tr>\n",
       "      <th>2</th>\n",
       "      <td>Senior Data Analyst</td>\n",
       "      <td>SA Health</td>\n",
       "      <td>Adelaide</td>\n",
       "      <td>Information &amp; Communication Technology</td>\n",
       "      <td>Business/Systems Analysts</td>\n",
       "      <td>0</td>\n",
       "      <td>Full time</td>\n",
       "      <td>2d</td>\n",
       "      <td>&lt;div class=\"yvsb870 _1v38w810\"&gt;\\n &lt;ul&gt;\\n  &lt;li&gt;...</td>\n",
       "    </tr>\n",
       "    <tr>\n",
       "      <th>3</th>\n",
       "      <td>ASO6 Data Analyst (Multiple Positions)</td>\n",
       "      <td>Department for Education</td>\n",
       "      <td>Adelaide</td>\n",
       "      <td>Science &amp; Technology</td>\n",
       "      <td>Mathematics, Statistics &amp; Information Sciences</td>\n",
       "      <td>0</td>\n",
       "      <td>Contract/Temp</td>\n",
       "      <td>10d</td>\n",
       "      <td>&lt;div class=\"yvsb870 _1v38w810\"&gt;\\n &lt;p&gt;\\n  The D...</td>\n",
       "    </tr>\n",
       "    <tr>\n",
       "      <th>4</th>\n",
       "      <td>Senior Data Analyst</td>\n",
       "      <td>SA Health</td>\n",
       "      <td>Adelaide</td>\n",
       "      <td>Government &amp; Defence</td>\n",
       "      <td>Government - State</td>\n",
       "      <td>0</td>\n",
       "      <td>Full time</td>\n",
       "      <td>2d</td>\n",
       "      <td>&lt;div class=\"yvsb870 _1v38w810\"&gt;\\n &lt;ul&gt;\\n  &lt;li&gt;...</td>\n",
       "    </tr>\n",
       "  </tbody>\n",
       "</table>\n",
       "</div>"
      ],
      "text/plain": [
       "                                    title                           company  \\\n",
       "0              Data Consultant (SA/WA/NT)  Australian Research Data Commons   \n",
       "1           RQmedia - SEM expert - Google                  Dynamic Creative   \n",
       "2                     Senior Data Analyst                         SA Health   \n",
       "3  ASO6 Data Analyst (Multiple Positions)          Department for Education   \n",
       "4                     Senior Data Analyst                         SA Health   \n",
       "\n",
       "   location                          classification  \\\n",
       "0  Adelaide                    Education & Training   \n",
       "1  Adelaide              Marketing & Communications   \n",
       "2  Adelaide  Information & Communication Technology   \n",
       "3  Adelaide                    Science & Technology   \n",
       "4  Adelaide                    Government & Defence   \n",
       "\n",
       "                               sub_classification  \\\n",
       "0       Library Services & Information Management   \n",
       "1                      Digital & Search Marketing   \n",
       "2                       Business/Systems Analysts   \n",
       "3  Mathematics, Statistics & Information Sciences   \n",
       "4                              Government - State   \n",
       "\n",
       "                                              salary      work_type  \\\n",
       "0  University of Adelaide HEO8 ($100,261 - $112,481)  Contract/Temp   \n",
       "1                                                  0      Full time   \n",
       "2                                                  0      Full time   \n",
       "3                                                  0  Contract/Temp   \n",
       "4                                                  0      Full time   \n",
       "\n",
       "  posted_date                                        description  \n",
       "0          8h  <div class=\"yvsb870 _1v38w810\">\\n <p>\\n  The A...  \n",
       "1          2d  <div class=\"yvsb870 _1v38w810\">\\n <p>\\n  <stro...  \n",
       "2          2d  <div class=\"yvsb870 _1v38w810\">\\n <ul>\\n  <li>...  \n",
       "3         10d  <div class=\"yvsb870 _1v38w810\">\\n <p>\\n  The D...  \n",
       "4          2d  <div class=\"yvsb870 _1v38w810\">\\n <ul>\\n  <li>...  "
      ]
     },
     "execution_count": 30,
     "metadata": {},
     "output_type": "execute_result"
    }
   ],
   "source": [
    "df.head()"
   ]
  },
  {
   "cell_type": "code",
   "execution_count": 31,
   "metadata": {
    "pycharm": {
     "name": "#%%\n"
    }
   },
   "outputs": [
    {
     "data": {
      "text/plain": [
       "Index(['title', 'company', 'location', 'classification', 'sub_classification',\n",
       "       'salary', 'work_type', 'posted_date', 'description'],\n",
       "      dtype='object')"
      ]
     },
     "execution_count": 31,
     "metadata": {},
     "output_type": "execute_result"
    }
   ],
   "source": [
    "df.columns"
   ]
  },
  {
   "cell_type": "code",
   "execution_count": 32,
   "metadata": {
    "pycharm": {
     "name": "#%%\n"
    }
   },
   "outputs": [
    {
     "data": {
      "text/plain": [
       "Adelaide    88\n",
       "Name: location, dtype: int64"
      ]
     },
     "execution_count": 32,
     "metadata": {},
     "output_type": "execute_result"
    }
   ],
   "source": [
    "df.location.value_counts()"
   ]
  },
  {
   "cell_type": "code",
   "execution_count": 33,
   "metadata": {
    "pycharm": {
     "name": "#%%\n"
    }
   },
   "outputs": [
    {
     "data": {
      "text/plain": [
       "Information & Communication Technology    49\n",
       "Government & Defence                      11\n",
       "Manufacturing, Transport & Logistics       5\n",
       "Science & Technology                       4\n",
       "Education & Training                       3\n",
       "Consulting & Strategy                      3\n",
       "Accounting                                 3\n",
       "Marketing & Communications                 2\n",
       "Banking & Financial Services               2\n",
       "Human Resources & Recruitment              2\n",
       "Mining, Resources & Energy                 1\n",
       "Call Centre & Customer Service             1\n",
       "Real Estate & Property                     1\n",
       "Healthcare & Medical                       1\n",
       "Name: classification, dtype: int64"
      ]
     },
     "execution_count": 33,
     "metadata": {},
     "output_type": "execute_result"
    }
   ],
   "source": [
    "df.classification.value_counts()"
   ]
  },
  {
   "cell_type": "code",
   "execution_count": 34,
   "metadata": {
    "pycharm": {
     "name": "#%%\n"
    }
   },
   "outputs": [
    {
     "data": {
      "text/plain": [
       "Business/Systems Analysts                         30\n",
       "Other                                              8\n",
       "Government - State                                 5\n",
       "Analysis & Reporting                               5\n",
       "Developers/Programmers                             4\n",
       "Government - Federal                               4\n",
       "Consultants                                        4\n",
       "Database Development & Administration              3\n",
       "Mathematics, Statistics & Information Sciences     3\n",
       "Analysts                                           3\n",
       "Purchasing, Procurement & Inventory                3\n",
       "Library Services & Information Management          2\n",
       "Management                                         2\n",
       "Help Desk & IT Support                             2\n",
       "Digital & Search Marketing                         2\n",
       "Engineering - Software                             2\n",
       "Production, Planning & Scheduling                  1\n",
       "Mining - Exploration & Geoscience                  1\n",
       "Financial Accounting & Reporting                   1\n",
       "Remuneration & Benefits                            1\n",
       "Programme & Project Management                     1\n",
       "Management & Change Consulting                     1\n",
       "Name: sub_classification, dtype: int64"
      ]
     },
     "execution_count": 34,
     "metadata": {},
     "output_type": "execute_result"
    }
   ],
   "source": [
    "df.sub_classification.value_counts()"
   ]
  },
  {
   "cell_type": "code",
   "execution_count": 35,
   "metadata": {
    "pycharm": {
     "name": "#%%\n"
    }
   },
   "outputs": [
    {
     "data": {
      "text/plain": [
       "SA Health                                         6\n",
       "Department of Defence                             4\n",
       "Westpac Group                                     3\n",
       "RAA                                               3\n",
       "Australian Research Data Commons                  2\n",
       "                                                 ..\n",
       "Dynamic Creative                                  1\n",
       "Morton Philips                                    1\n",
       "Hudson - Technology, Projects & Transformation    1\n",
       "Ignite                                            1\n",
       "Randstad Technologies                             1\n",
       "Name: company, Length: 61, dtype: int64"
      ]
     },
     "execution_count": 35,
     "metadata": {},
     "output_type": "execute_result"
    }
   ],
   "source": [
    "df.company.value_counts()"
   ]
  },
  {
   "cell_type": "code",
   "execution_count": 75,
   "metadata": {
    "pycharm": {
     "name": "#%%\n"
    }
   },
   "outputs": [
    {
     "data": {
      "text/plain": [
       "6d      46\n",
       "2d      38\n",
       "8d      36\n",
       "15d     33\n",
       "9d      30\n",
       "13d     29\n",
       "16d     28\n",
       "10d     27\n",
       "7d      24\n",
       "22d     23\n",
       "20d     23\n",
       "1d      23\n",
       "14d     22\n",
       "28d     19\n",
       "21d     18\n",
       "3d      18\n",
       "23d     18\n",
       "17d     15\n",
       "27d     13\n",
       "29d      8\n",
       "9h       6\n",
       "8h       5\n",
       "30d+     4\n",
       "25d      3\n",
       "5d       3\n",
       "6        1\n",
       "7h       1\n",
       "12d      1\n",
       "26d      1\n",
       "11d      1\n",
       "18d      1\n",
       "4d       1\n",
       "5h       1\n",
       "23h      1\n",
       "21h      1\n",
       "6h       1\n",
       "Name: posted_date, dtype: int64"
      ]
     },
     "execution_count": 75,
     "metadata": {},
     "output_type": "execute_result"
    }
   ],
   "source": [
    "df_job.posted_date.value_counts()"
   ]
  },
  {
   "cell_type": "code",
   "execution_count": 25,
   "metadata": {
    "pycharm": {
     "name": "#%%\n"
    }
   },
   "outputs": [
    {
     "data": {
      "text/plain": [
       "Full time        18\n",
       "Contract/Temp     4\n",
       "Name: work_type, dtype: int64"
      ]
     },
     "execution_count": 25,
     "metadata": {},
     "output_type": "execute_result"
    }
   ],
   "source": [
    "df.work_type.value_counts()"
   ]
  },
  {
   "cell_type": "code",
   "execution_count": 26,
   "metadata": {
    "pycharm": {
     "name": "#%%\n"
    }
   },
   "outputs": [
    {
     "data": {
      "text/plain": [
       "0                                                    17\n",
       "$ 112, 617 - $ 124, 466                               2\n",
       "University of Adelaide HEO8 ($100,261 - $112,481)     1\n",
       "$80,000 - $120,000                                    1\n",
       "Competitive Salary & Allowances                       1\n",
       "Name: salary, dtype: int64"
      ]
     },
     "execution_count": 26,
     "metadata": {},
     "output_type": "execute_result"
    }
   ],
   "source": [
    "df.salary.value_counts()"
   ]
  },
  {
   "cell_type": "code",
   "execution_count": 27,
   "metadata": {
    "pycharm": {
     "name": "#%%\n"
    }
   },
   "outputs": [
    {
     "data": {
      "text/plain": [
       "'<div class=\"yvsb870 _1v38w810\">\\n <p>\\n  The Australian Research Data Commons (ARDC) is a transformational initiative that is enabling access to nationally significant, leading edge data intensive eInfrastructure, platforms, skills and collections of high-quality data for the Australian research community and industry.\\n </p>\\n <p>\\n  The purpose of the ARDC is to provide Australian researchers with a competitive advantage through data.\\n </p>\\n <p>\\n  We are looking to welcome to the team an experienced and highly effective individual to the position of\\n  <strong>\\n   Data Consultant\\n  </strong>\\n  . You will understand the research sector in Western Australia, South Australia and the Northern Territory.\\xa0 You will have experience working in a commonwealth funded research environment and be able to bring your skills and knowledge to the role to help advance the ARDC’s mission in WA, SA and the NT.\\n </p>\\n <p>\\n  <strong>\\n   The purpose of this key role is to work at international, national, and local levels with current and prospective partners to communicate ARDC’s capabilities, identify upcoming research challenges and potential solutions, and build communities that promote best practice in activities relating to ARDC’s data, platform, infrastructure, and skills programs.\\n  </strong>\\n </p>\\n <p>\\n  In this role you will\\xa0experience a diverse range of exciting challenges in a unique and fast paced environment.\\xa0 We can guarantee that no day will be the same!\\n </p>\\n <p>\\n  The ideal candidate will have a PhD or comparable experience working in academic research and/or a thorough understanding of the research process. They will have worked in or closely with (local/national/international) research organisations and facilities and will have successfully engaged with diverse groups of stakeholders within institutions, research facilities and/or research groups.\\n </p>\\n <p>\\n  On offer is a competitive remuneration package depending on the successful candidates skills and experience. This role is employed through the University of Adelaide and is based in Adelaide. While this role is primarily based in South Australia it is also responsible for WA and NT engagements and some national programs and domestic and international travel may be required.\\n </p>\\n <p>\\n  You can access the Position Description here:\\n </p>\\n <p>\\n  https://bit.ly/ARDCdataconsultant\\n </p>\\n <p>\\n  If you would like to find out more about the role please contact:\\n </p>\\n <p>\\n  Keith Russell, Manager Engagements on\\n  <a data-contact-match=\"true\" href=\"tel:0427 452 342\">\\n   0427 452 342\\n  </a>\\n  or via email\\n  <a data-contact-match=\"true\" href=\"mailto:keith.russell@ardc.edu.au\">\\n   keith.russell@ardc.edu.au\\n  </a>\\n </p>\\n <p>\\n  Applications close on Friday 10 June 2022.\\n </p>\\n <p>\\n  <strong>\\n   To submit an application please click \\'Apply for this job\\' and include your current CV, response to the Key Selection Criteria from the Position Description and two referees. Please address applications to Keith Russell.\\n  </strong>\\n </p>\\n <p>\\n  <strong>\\n   No agencies please\\n  </strong>\\n </p>\\n</div>'"
      ]
     },
     "execution_count": 27,
     "metadata": {},
     "output_type": "execute_result"
    }
   ],
   "source": [
    "df.description[0]"
   ]
  },
  {
   "cell_type": "code",
   "execution_count": 79,
   "metadata": {
    "pycharm": {
     "name": "#%%\n"
    }
   },
   "outputs": [],
   "source": []
  },
  {
   "cell_type": "code",
   "execution_count": 79,
   "metadata": {
    "pycharm": {
     "name": "#%%\n"
    }
   },
   "outputs": [],
   "source": []
  },
  {
   "cell_type": "code",
   "execution_count": null,
   "metadata": {
    "pycharm": {
     "name": "#%%\n"
    }
   },
   "outputs": [],
   "source": []
  }
 ],
 "metadata": {
  "kernelspec": {
   "display_name": "Python 3 (ipykernel)",
   "language": "python",
   "name": "python3"
  },
  "language_info": {
   "codemirror_mode": {
    "name": "ipython",
    "version": 3
   },
   "file_extension": ".py",
   "mimetype": "text/x-python",
   "name": "python",
   "nbconvert_exporter": "python",
   "pygments_lexer": "ipython3",
   "version": "3.9.12"
  }
 },
 "nbformat": 4,
 "nbformat_minor": 1
}
