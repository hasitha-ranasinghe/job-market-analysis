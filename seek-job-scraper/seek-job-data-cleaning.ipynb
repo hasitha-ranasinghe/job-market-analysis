{
 "cells": [
  {
   "cell_type": "code",
   "execution_count": 4,
   "metadata": {},
   "outputs": [],
   "source": [
    "import pandas as pd\n",
    "import numpy as np"
   ]
  },
  {
   "cell_type": "code",
   "execution_count": 67,
   "metadata": {
    "pycharm": {
     "name": "#%%\n"
    }
   },
   "outputs": [],
   "source": [
    "df = pd.read_csv('data/content/2022-05-22-data-analyst-jobs-in-all-adelaide-sa.csv')"
   ]
  },
  {
   "cell_type": "code",
   "execution_count": 68,
   "metadata": {
    "pycharm": {
     "name": "#%%\n"
    }
   },
   "outputs": [
    {
     "data": {
      "text/plain": "(783, 10)"
     },
     "execution_count": 68,
     "metadata": {},
     "output_type": "execute_result"
    }
   ],
   "source": [
    "df.shape"
   ]
  },
  {
   "cell_type": "code",
   "execution_count": 69,
   "metadata": {
    "pycharm": {
     "name": "#%%\n"
    }
   },
   "outputs": [
    {
     "data": {
      "text/plain": "                               title                          company  \\\n0  Configuration and Data Controller                      BAE Systems   \n1                    Credit Assessor                   OurMoneyMarket   \n2      Multiple Data Analysts (APS4)  Australian Bureau of Statistics   \n3    Data Analyst - Funds Management               Kaizen Recruitment   \n4                Senior Data Analyst                        SA Health   \n\n   location                          classification  \\\n0  Adelaide                             Engineering   \n1  Adelaide            Banking & Financial Services   \n2  Adelaide                    Science & Technology   \n3  Adelaide            Banking & Financial Services   \n4  Adelaide  Information & Communication Technology   \n\n                               sub_classification  \\\n0                             Systems Engineering   \n1                                          Credit   \n2  Mathematics, Statistics & Information Sciences   \n3                                Funds Management   \n4                       Business/Systems Analysts   \n\n                                  salary      work_type posted_date  \\\n0                                      0      Full time  20/05/2022   \n1                      $55,000 - $69,999      Full time  11/05/2022   \n2  $68,852 to $75,195 (plus 15.4% super)      Full time  20/05/2022   \n3                                      0  Contract/Temp  20/05/2022   \n4                                      0      Full time  18/05/2022   \n\n                                                 url  \\\n0  https://www.seek.com.au//job/57051707?type=pro...   \n1  https://www.seek.com.au//job/56934003?type=pro...   \n2  https://www.seek.com.au//job/57056033?type=sta...   \n3  https://www.seek.com.au//job/57065700?type=sta...   \n4  https://www.seek.com.au//job/57015411?type=sta...   \n\n                                         description  \n0  <div class=\"yvsb870 _1v38w810\">\\n <ul>\\n  <li>...  \n1  <div class=\"yvsb870 _1v38w810\">\\n <p>\\n  <stro...  \n2  <div class=\"yvsb870 _1v38w810\">\\n <p>\\n </p>\\n...  \n3  <div class=\"yvsb870 _1v38w810\">\\n <strong>\\n  ...  \n4  <div class=\"yvsb870 _1v38w810\">\\n <ul>\\n  <li>...  ",
      "text/html": "<div>\n<style scoped>\n    .dataframe tbody tr th:only-of-type {\n        vertical-align: middle;\n    }\n\n    .dataframe tbody tr th {\n        vertical-align: top;\n    }\n\n    .dataframe thead th {\n        text-align: right;\n    }\n</style>\n<table border=\"1\" class=\"dataframe\">\n  <thead>\n    <tr style=\"text-align: right;\">\n      <th></th>\n      <th>title</th>\n      <th>company</th>\n      <th>location</th>\n      <th>classification</th>\n      <th>sub_classification</th>\n      <th>salary</th>\n      <th>work_type</th>\n      <th>posted_date</th>\n      <th>url</th>\n      <th>description</th>\n    </tr>\n  </thead>\n  <tbody>\n    <tr>\n      <th>0</th>\n      <td>Configuration and Data Controller</td>\n      <td>BAE Systems</td>\n      <td>Adelaide</td>\n      <td>Engineering</td>\n      <td>Systems Engineering</td>\n      <td>0</td>\n      <td>Full time</td>\n      <td>20/05/2022</td>\n      <td>https://www.seek.com.au//job/57051707?type=pro...</td>\n      <td>&lt;div class=\"yvsb870 _1v38w810\"&gt;\\n &lt;ul&gt;\\n  &lt;li&gt;...</td>\n    </tr>\n    <tr>\n      <th>1</th>\n      <td>Credit Assessor</td>\n      <td>OurMoneyMarket</td>\n      <td>Adelaide</td>\n      <td>Banking &amp; Financial Services</td>\n      <td>Credit</td>\n      <td>$55,000 - $69,999</td>\n      <td>Full time</td>\n      <td>11/05/2022</td>\n      <td>https://www.seek.com.au//job/56934003?type=pro...</td>\n      <td>&lt;div class=\"yvsb870 _1v38w810\"&gt;\\n &lt;p&gt;\\n  &lt;stro...</td>\n    </tr>\n    <tr>\n      <th>2</th>\n      <td>Multiple Data Analysts (APS4)</td>\n      <td>Australian Bureau of Statistics</td>\n      <td>Adelaide</td>\n      <td>Science &amp; Technology</td>\n      <td>Mathematics, Statistics &amp; Information Sciences</td>\n      <td>$68,852 to $75,195 (plus 15.4% super)</td>\n      <td>Full time</td>\n      <td>20/05/2022</td>\n      <td>https://www.seek.com.au//job/57056033?type=sta...</td>\n      <td>&lt;div class=\"yvsb870 _1v38w810\"&gt;\\n &lt;p&gt;\\n &lt;/p&gt;\\n...</td>\n    </tr>\n    <tr>\n      <th>3</th>\n      <td>Data Analyst - Funds Management</td>\n      <td>Kaizen Recruitment</td>\n      <td>Adelaide</td>\n      <td>Banking &amp; Financial Services</td>\n      <td>Funds Management</td>\n      <td>0</td>\n      <td>Contract/Temp</td>\n      <td>20/05/2022</td>\n      <td>https://www.seek.com.au//job/57065700?type=sta...</td>\n      <td>&lt;div class=\"yvsb870 _1v38w810\"&gt;\\n &lt;strong&gt;\\n  ...</td>\n    </tr>\n    <tr>\n      <th>4</th>\n      <td>Senior Data Analyst</td>\n      <td>SA Health</td>\n      <td>Adelaide</td>\n      <td>Information &amp; Communication Technology</td>\n      <td>Business/Systems Analysts</td>\n      <td>0</td>\n      <td>Full time</td>\n      <td>18/05/2022</td>\n      <td>https://www.seek.com.au//job/57015411?type=sta...</td>\n      <td>&lt;div class=\"yvsb870 _1v38w810\"&gt;\\n &lt;ul&gt;\\n  &lt;li&gt;...</td>\n    </tr>\n  </tbody>\n</table>\n</div>"
     },
     "execution_count": 69,
     "metadata": {},
     "output_type": "execute_result"
    }
   ],
   "source": [
    "df.head()"
   ]
  },
  {
   "cell_type": "code",
   "execution_count": 51,
   "metadata": {},
   "outputs": [],
   "source": [
    "import dtale\n",
    "from pandas_profiling import ProfileReport\n",
    "from dataprep.eda import create_report\n",
    " \n",
    "class AutomateEDA:\n",
    "    \n",
    "    def __init__(self, df):\n",
    "        self.df = df\n",
    "     \n",
    "    def show_dtale(self):\n",
    "        d = dtale.show(self.df)\n",
    "        d.open_browser()\n",
    "        print('dtale opened in browser!')\n",
    "        \n",
    "    def show_pandas_profile_report(self):\n",
    "        profile = ProfileReport(self.df, title=\"Pandas Profiling Report\", explorative=True)\n",
    "        profile.to_file(\"pandas-profiling-report.html\")\n",
    "        print('pandas-profile-report created and saved in the project folder!')\n",
    "        \n",
    "    def show_dataprep(self):\n",
    "        create_report(self.df).show_browser()\n",
    "        print('dataprep opened in browser!')\n",
    "        \n",
    "    def show_all(self):\n",
    "        self.show_dtale()\n",
    "        self.show_dataprep()\n",
    "        self.show_pandas_profile_report();"
   ]
  },
  {
   "cell_type": "code",
   "execution_count": 52,
   "metadata": {},
   "outputs": [
    {
     "name": "stdout",
     "output_type": "stream",
     "text": [
      "dtale opened in browser!\n"
     ]
    },
    {
     "data": {
      "text/plain": "  0%|                                                                                         | 0/1048 [00:00<…",
      "application/vnd.jupyter.widget-view+json": {
       "version_major": 2,
       "version_minor": 0,
       "model_id": "550107093ed54371898e273ff62cff54"
      }
     },
     "metadata": {},
     "output_type": "display_data"
    },
    {
     "name": "stdout",
     "output_type": "stream",
     "text": [
      "dataprep opened in browser!\n"
     ]
    },
    {
     "data": {
      "text/plain": "Summarize dataset:   0%|          | 0/5 [00:00<?, ?it/s]",
      "application/vnd.jupyter.widget-view+json": {
       "version_major": 2,
       "version_minor": 0,
       "model_id": "d396aa3dac0a4ef3add373024bc7e4c6"
      }
     },
     "metadata": {},
     "output_type": "display_data"
    },
    {
     "data": {
      "text/plain": "Generate report structure:   0%|          | 0/1 [00:00<?, ?it/s]",
      "application/vnd.jupyter.widget-view+json": {
       "version_major": 2,
       "version_minor": 0,
       "model_id": "10ec649bf80b479fa0804a9e9ddcee42"
      }
     },
     "metadata": {},
     "output_type": "display_data"
    },
    {
     "data": {
      "text/plain": "Render HTML:   0%|          | 0/1 [00:00<?, ?it/s]",
      "application/vnd.jupyter.widget-view+json": {
       "version_major": 2,
       "version_minor": 0,
       "model_id": "6d34d2efa3314e51b1cf636bcd7d528c"
      }
     },
     "metadata": {},
     "output_type": "display_data"
    },
    {
     "data": {
      "text/plain": "Export report to file:   0%|          | 0/1 [00:00<?, ?it/s]",
      "application/vnd.jupyter.widget-view+json": {
       "version_major": 2,
       "version_minor": 0,
       "model_id": "b7a050eb02b64b35a9f890c7a25981db"
      }
     },
     "metadata": {},
     "output_type": "display_data"
    },
    {
     "name": "stdout",
     "output_type": "stream",
     "text": [
      "pandas-profile-report created and saved in the project folder!\n"
     ]
    }
   ],
   "source": [
    "eda = AutomateEDA(df)\n",
    "eda.show_all()"
   ]
  },
  {
   "cell_type": "code",
   "execution_count": 53,
   "metadata": {},
   "outputs": [],
   "source": [
    "from html.parser import HTMLParser\n",
    "\n",
    "class MyHTMLParser(HTMLParser):\n",
    "    # def handle_starttag(self, tag, attrs):\n",
    "    #     print(\"start tag:\", tag)\n",
    "    #\n",
    "    # def handle_endtag(self, tag):\n",
    "    #     print(\"end tag :\", tag)\n",
    "\n",
    "    def handle_data(self, data):\n",
    "        if data.strip():\n",
    "            print(data)"
   ]
  },
  {
   "cell_type": "code",
   "execution_count": 54,
   "outputs": [
    {
     "name": "stdout",
     "output_type": "stream",
     "text": [
      "\n",
      "   Your Role\n",
      "  \n",
      "\n",
      "  The Defence Science and Technology Group (DSTG) is offering two ongoing positions as a STEM Analyst on the Impacts of Advanced Technologies.\n",
      "  \n",
      "\n",
      "  You will develop a deep understanding of a range of technologies, and work with experts to foresee how these technologies will develop into the future. You will then creatively assess how these developments might strengthen or weaken Australia’s national interests, with a focus on Defence and national security.\n",
      "  \n",
      "\n",
      "  The role involves desk-based technical research and analysis as part of a large team responsible for providing emerging technology and foresight advice to Defence and other government departments. You will be responsible for a technical area that corresponds to your current S&T skills, and will broaden your expertise into a range of fields relevant to Defence (for example AI, cyber, biotechnology, quantum and many others). You will be trained in role-specific analytic skills, including data analytics and foresight techniques. You will develop a sound understanding of the structure and decision-making processes of the Defence Department, to ensure your advice is tailored to have an impact. You will develop into a communications expert, able to concisely explain technical issues to busy, non-technical stakeholders. Outputs will include written reports, verbal briefings, multi-media and infographics. The role requires building networks across our own team of experts, as well as broader DSTG, Defence and intelligence.\n",
      "  \n",
      "\n",
      "   Our Team\n",
      "  \n",
      "\n",
      "  The technology analyst team is a part of the Defence Impacts of Emerging Technology (DIET) Group, within Strategy and Joint Force (SJF) Major Science and Technology Capability (MSTC), which is itself within the Joint and Operations Analysis Division of the Defence Science and Technology Group (DSTG).\n",
      "  \n",
      "\n",
      "  This team is organised under DSTG’s Strategic Futures Project, and works closely with the Critical Technology Foresight (CTF) Group. You will be joining a project team of approximately 25 staff, including technology analysts (like this position), experts in tools and methods (such as AI experts who write programs to assist the analysts) and social scientists (who evaluate the impact of technology on society).\n",
      "  \n",
      "\n",
      "  The Strategic Futures Project is a centre of gravity within government for emerging technology and foresight advice. Our advice feeds into decision-making, such as for senior Defence committees, the Department’s S&T portfolio planning and capability planning for the ADF. We play a key role in whole-of-government decision-making via our strong linkages to the Critical Technology Policy Coordination Office in PM&C. We partner with DSTG’s 2000 experts, across Defence, policy and intelligence agencies, and with international experts.\n",
      "  \n",
      "\n",
      "  Our team is passionate, professional, welcoming and inclusive.\n",
      "  \n",
      "\n",
      "   Our Ideal Candidate\n",
      "  \n",
      "\n",
      "  We are seeking an Australian citizen who is naturally curious and motivated to develop broad expertise across diverse emerging technologies. Candidates from all S&T disciplines will be considered, but we especially seek experts in the physical sciences, engineering or systems analysis. We seek science-communicators who are passionate about making an impact for the nation. Ideally you will have experience in the APS, academia or industry. A pre-existing interest in Defence is not required, but you must be open to developing this.\n",
      "  \n",
      "\n",
      "  Application Closing Date: Friday 3 June, 2022\n",
      " \n",
      "\n",
      "  For further information please review the job information pack, reference\n",
      "  \n",
      "\n",
      "   DSTG/02119/22\n",
      "  \n",
      "\n",
      "  on\n",
      "  \n",
      "\n",
      "   https://defencecareers.nga.net.au/?jati=B9B11BC9-9194-AB88-90BD-C88DBEBC300F\n",
      "  \n"
     ]
    }
   ],
   "source": [
    "parser = MyHTMLParser()\n",
    "parser.feed(df['description'][0])"
   ],
   "metadata": {
    "collapsed": false,
    "pycharm": {
     "name": "#%%\n"
    }
   }
  },
  {
   "cell_type": "code",
   "execution_count": 41,
   "metadata": {
    "pycharm": {
     "name": "#%%\n"
    }
   },
   "outputs": [
    {
     "data": {
      "text/plain": [
       "Index(['title', 'company', 'location', 'classification', 'sub_classification',\n",
       "       'salary', 'work_type', 'posted_date', 'description'],\n",
       "      dtype='object')"
      ]
     },
     "execution_count": 41,
     "metadata": {},
     "output_type": "execute_result"
    }
   ],
   "source": [
    "df.columns"
   ]
  },
  {
   "cell_type": "code",
   "execution_count": 32,
   "metadata": {
    "pycharm": {
     "name": "#%%\n"
    }
   },
   "outputs": [
    {
     "data": {
      "text/plain": [
       "Adelaide    88\n",
       "Name: location, dtype: int64"
      ]
     },
     "execution_count": 32,
     "metadata": {},
     "output_type": "execute_result"
    }
   ],
   "source": [
    "df.location.value_counts()"
   ]
  },
  {
   "cell_type": "code",
   "execution_count": 47,
   "metadata": {
    "pycharm": {
     "name": "#%%\n"
    }
   },
   "outputs": [
    {
     "data": {
      "text/plain": [
       "Information & Communication Technology    83\n",
       "Government & Defence                       4\n",
       "Education & Training                       1\n",
       "Name: classification, dtype: int64"
      ]
     },
     "execution_count": 47,
     "metadata": {},
     "output_type": "execute_result"
    }
   ],
   "source": [
    "df.classification.value_counts()"
   ]
  },
  {
   "cell_type": "code",
   "execution_count": 48,
   "metadata": {
    "pycharm": {
     "name": "#%%\n"
    }
   },
   "outputs": [
    {
     "data": {
      "text/plain": [
       "Developers/Programmers            55\n",
       "Engineering - Software            24\n",
       "Government - State                 4\n",
       "Other                              2\n",
       "Programme & Project Management     2\n",
       "Help Desk & IT Support             1\n",
       "Name: sub_classification, dtype: int64"
      ]
     },
     "execution_count": 48,
     "metadata": {},
     "output_type": "execute_result"
    }
   ],
   "source": [
    "df.sub_classification.value_counts()"
   ]
  },
  {
   "cell_type": "code",
   "execution_count": 49,
   "metadata": {
    "pycharm": {
     "name": "#%%\n"
    }
   },
   "outputs": [
    {
     "data": {
      "text/plain": [
       "DWS Limited                                                     5\n",
       "Talent – SEEK Recruitment Agency of the Year | 7 Time Winner    5\n",
       "SACE Board of South Australia                                   4\n",
       "Just Digital People                                             4\n",
       "Private Advertiser                                              3\n",
       "GAP SOLUTIONS                                                   2\n",
       "SPACETALK                                                       2\n",
       "DPS Publishing                                                  2\n",
       "SEEK Limited                                                    2\n",
       "Bendigo and Adelaide Bank                                       2\n",
       "Paxus                                                           2\n",
       "Peoplebank Australia SA                                         2\n",
       "Microsoft                                                       2\n",
       "Airtec Corporation                                              2\n",
       "The University of Adelaide                                      2\n",
       "Katalyst Interactive                                            2\n",
       "Fivecast                                                        2\n",
       "Fujitsu Australia Limited                                       2\n",
       "Halcyon Knights Pty Ltd                                         2\n",
       "DXC Technology Australia & New Zealand                          2\n",
       "Department for Infrastructure and Transport                     2\n",
       "SA Health                                                       2\n",
       "Orange Owl Software                                             1\n",
       "Temple & Webster Group                                          1\n",
       "Troocoo                                                         1\n",
       "FYI Software Pty Ltd                                            1\n",
       "Sonic Human Resourcing Pty Ltd                                  1\n",
       "VR Distribution                                                 1\n",
       "Optimatics                                                      1\n",
       "WiseTech Global                                                 1\n",
       "UniFresh Processors Pty Ltd                                     1\n",
       "Quality People                                                  1\n",
       "Miniprobes Pty Ltd                                              1\n",
       "SYPAQ Systems                                                   1\n",
       "TicToc Online Pty Ltd                                           1\n",
       "Consilium Technology Pty Ltd                                    1\n",
       "DialogIT                                                        1\n",
       "Nova Systems                                                    1\n",
       "Clear Dynamics                                                  1\n",
       "Lodestone Solutions                                             1\n",
       "Dr Jones & Partners Medical Imaging                             1\n",
       "Axios IT Pty Ltd                                                1\n",
       "Fyfe Pty Ltd                                                    1\n",
       "Bravura Solutions Operations Pty Limited                        1\n",
       "Leader Computers                                                1\n",
       "Aurecon                                                         1\n",
       "ECH Inc                                                         1\n",
       "Esri Australia Pty Ltd                                          1\n",
       "NovaWorks                                                       1\n",
       "Lane Communications                                             1\n",
       "Davidson                                                        1\n",
       "Genesis IT&T P/L                                                1\n",
       "EduCo International Pty Ltd                                     1\n",
       "Real Estate Sales Online                                        1\n",
       "Saab Australia Pty Ltd                                          1\n",
       "Name: company, dtype: int64"
      ]
     },
     "execution_count": 49,
     "metadata": {},
     "output_type": "execute_result"
    }
   ],
   "source": [
    "df.company.value_counts()"
   ]
  },
  {
   "cell_type": "code",
   "execution_count": 75,
   "metadata": {
    "pycharm": {
     "name": "#%%\n"
    }
   },
   "outputs": [
    {
     "data": {
      "text/plain": [
       "6d      46\n",
       "2d      38\n",
       "8d      36\n",
       "15d     33\n",
       "9d      30\n",
       "13d     29\n",
       "16d     28\n",
       "10d     27\n",
       "7d      24\n",
       "22d     23\n",
       "20d     23\n",
       "1d      23\n",
       "14d     22\n",
       "28d     19\n",
       "21d     18\n",
       "3d      18\n",
       "23d     18\n",
       "17d     15\n",
       "27d     13\n",
       "29d      8\n",
       "9h       6\n",
       "8h       5\n",
       "30d+     4\n",
       "25d      3\n",
       "5d       3\n",
       "6        1\n",
       "7h       1\n",
       "12d      1\n",
       "26d      1\n",
       "11d      1\n",
       "18d      1\n",
       "4d       1\n",
       "5h       1\n",
       "23h      1\n",
       "21h      1\n",
       "6h       1\n",
       "Name: posted_date, dtype: int64"
      ]
     },
     "execution_count": 75,
     "metadata": {},
     "output_type": "execute_result"
    }
   ],
   "source": [
    "df_job.posted_date.value_counts()"
   ]
  },
  {
   "cell_type": "code",
   "execution_count": 25,
   "metadata": {
    "pycharm": {
     "name": "#%%\n"
    }
   },
   "outputs": [
    {
     "data": {
      "text/plain": [
       "Full time        18\n",
       "Contract/Temp     4\n",
       "Name: work_type, dtype: int64"
      ]
     },
     "execution_count": 25,
     "metadata": {},
     "output_type": "execute_result"
    }
   ],
   "source": [
    "df.work_type.value_counts()"
   ]
  },
  {
   "cell_type": "code",
   "execution_count": 26,
   "metadata": {
    "pycharm": {
     "name": "#%%\n"
    }
   },
   "outputs": [
    {
     "data": {
      "text/plain": [
       "0                                                    17\n",
       "$ 112, 617 - $ 124, 466                               2\n",
       "University of Adelaide HEO8 ($100,261 - $112,481)     1\n",
       "$80,000 - $120,000                                    1\n",
       "Competitive Salary & Allowances                       1\n",
       "Name: salary, dtype: int64"
      ]
     },
     "execution_count": 26,
     "metadata": {},
     "output_type": "execute_result"
    }
   ],
   "source": [
    "df.salary.value_counts()"
   ]
  }
 ],
 "metadata": {
  "kernelspec": {
   "display_name": "Python 3 (ipykernel)",
   "language": "python",
   "name": "python3"
  },
  "language_info": {
   "codemirror_mode": {
    "name": "ipython",
    "version": 3
   },
   "file_extension": ".py",
   "mimetype": "text/x-python",
   "name": "python",
   "nbconvert_exporter": "python",
   "pygments_lexer": "ipython3",
   "version": "3.9.12"
  }
 },
 "nbformat": 4,
 "nbformat_minor": 1
}