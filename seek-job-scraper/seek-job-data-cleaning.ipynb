{
 "cells": [
  {
   "cell_type": "code",
   "execution_count": 1,
   "metadata": {
    "collapsed": true
   },
   "outputs": [],
   "source": [
    "import pandas as pd\n",
    "import numpy as np"
   ]
  },
  {
   "cell_type": "code",
   "execution_count": 41,
   "outputs": [],
   "source": [
    "df = pd.read_csv('job-market-analysis/seek-job-scraper/data/job-links')"
   ],
   "metadata": {
    "collapsed": false,
    "pycharm": {
     "name": "#%%\n"
    }
   }
  },
  {
   "cell_type": "code",
   "execution_count": 42,
   "outputs": [
    {
     "data": {
      "text/plain": "(44, 1)"
     },
     "execution_count": 42,
     "metadata": {},
     "output_type": "execute_result"
    }
   ],
   "source": [
    "df.shape"
   ],
   "metadata": {
    "collapsed": false,
    "pycharm": {
     "name": "#%%\n"
    }
   }
  },
  {
   "cell_type": "code",
   "execution_count": 43,
   "outputs": [
    {
     "data": {
      "text/plain": "Index(['link'], dtype='object')"
     },
     "execution_count": 43,
     "metadata": {},
     "output_type": "execute_result"
    }
   ],
   "source": [
    "df.columns"
   ],
   "metadata": {
    "collapsed": false,
    "pycharm": {
     "name": "#%%\n"
    }
   }
  },
  {
   "cell_type": "code",
   "execution_count": 44,
   "outputs": [
    {
     "data": {
      "text/plain": "                                                 link\n0   https://www.seek.com.au//job/56834934?type=pro...\n1   https://www.seek.com.au//job/57024574?type=pro...\n2   https://www.seek.com.au//job/57015411?type=sta...\n3   https://www.seek.com.au//job/56903759?type=sta...\n4   https://www.seek.com.au//job/57015412?type=sta...\n5   https://www.seek.com.au//job/56986849?type=sta...\n6   https://www.seek.com.au//job/56903760?type=sta...\n7   https://www.seek.com.au//job/56986850?type=sta...\n8   https://www.seek.com.au//job/57026699?type=sta...\n9   https://www.seek.com.au//job/57023077?type=sta...\n10  https://www.seek.com.au//job/57022896?type=sta...\n11  https://www.seek.com.au//job/57024607?type=sta...\n12  https://www.seek.com.au//job/57030323?type=sta...\n13  https://www.seek.com.au//job/56914757?type=sta...\n14  https://www.seek.com.au//job/56973286?type=sta...\n15  https://www.seek.com.au//job/57021618?type=sta...\n16  https://www.seek.com.au//job/56915405?type=sta...\n17  https://www.seek.com.au//job/56914758?type=sta...\n18  https://www.seek.com.au//job/57006184?type=sta...\n19  https://www.seek.com.au//job/56973410?type=sta...\n20  https://www.seek.com.au//job/56784058?type=sta...\n21  https://www.seek.com.au//job/56690725?type=sta...\n22  https://www.seek.com.au//job/56934003?type=pro...\n23  https://www.seek.com.au//job/56834934?type=pro...\n24  https://www.seek.com.au//job/56969324?type=sta...\n25  https://www.seek.com.au//job/57020051?type=sta...\n26  https://www.seek.com.au//job/56914176?type=sta...\n27  https://www.seek.com.au//job/56914177?type=sta...\n28  https://www.seek.com.au//job/56914339?type=sta...\n29  https://www.seek.com.au//job/56877130?type=sta...\n30  https://www.seek.com.au//job/57010796?type=sta...\n31  https://www.seek.com.au//job/57015405?type=sta...\n32  https://www.seek.com.au//job/56981893?type=sta...\n33  https://www.seek.com.au//job/56967612?type=sta...\n34  https://www.seek.com.au//job/56908745?type=sta...\n35  https://www.seek.com.au//job/57025962?type=sta...\n36  https://www.seek.com.au//job/56903744?type=sta...\n37  https://www.seek.com.au//job/57015406?type=sta...\n38  https://www.seek.com.au//job/56921343?type=sta...\n39  https://www.seek.com.au//job/56991888?type=sta...\n40  https://www.seek.com.au//job/56943978?type=sta...\n41  https://www.seek.com.au//job/56968444?type=sta...\n42  https://www.seek.com.au//job/56917237?type=sta...\n43  https://www.seek.com.au//job/56851180?type=sta...",
      "text/html": "<div>\n<style scoped>\n    .dataframe tbody tr th:only-of-type {\n        vertical-align: middle;\n    }\n\n    .dataframe tbody tr th {\n        vertical-align: top;\n    }\n\n    .dataframe thead th {\n        text-align: right;\n    }\n</style>\n<table border=\"1\" class=\"dataframe\">\n  <thead>\n    <tr style=\"text-align: right;\">\n      <th></th>\n      <th>link</th>\n    </tr>\n  </thead>\n  <tbody>\n    <tr>\n      <th>0</th>\n      <td>https://www.seek.com.au//job/56834934?type=pro...</td>\n    </tr>\n    <tr>\n      <th>1</th>\n      <td>https://www.seek.com.au//job/57024574?type=pro...</td>\n    </tr>\n    <tr>\n      <th>2</th>\n      <td>https://www.seek.com.au//job/57015411?type=sta...</td>\n    </tr>\n    <tr>\n      <th>3</th>\n      <td>https://www.seek.com.au//job/56903759?type=sta...</td>\n    </tr>\n    <tr>\n      <th>4</th>\n      <td>https://www.seek.com.au//job/57015412?type=sta...</td>\n    </tr>\n    <tr>\n      <th>5</th>\n      <td>https://www.seek.com.au//job/56986849?type=sta...</td>\n    </tr>\n    <tr>\n      <th>6</th>\n      <td>https://www.seek.com.au//job/56903760?type=sta...</td>\n    </tr>\n    <tr>\n      <th>7</th>\n      <td>https://www.seek.com.au//job/56986850?type=sta...</td>\n    </tr>\n    <tr>\n      <th>8</th>\n      <td>https://www.seek.com.au//job/57026699?type=sta...</td>\n    </tr>\n    <tr>\n      <th>9</th>\n      <td>https://www.seek.com.au//job/57023077?type=sta...</td>\n    </tr>\n    <tr>\n      <th>10</th>\n      <td>https://www.seek.com.au//job/57022896?type=sta...</td>\n    </tr>\n    <tr>\n      <th>11</th>\n      <td>https://www.seek.com.au//job/57024607?type=sta...</td>\n    </tr>\n    <tr>\n      <th>12</th>\n      <td>https://www.seek.com.au//job/57030323?type=sta...</td>\n    </tr>\n    <tr>\n      <th>13</th>\n      <td>https://www.seek.com.au//job/56914757?type=sta...</td>\n    </tr>\n    <tr>\n      <th>14</th>\n      <td>https://www.seek.com.au//job/56973286?type=sta...</td>\n    </tr>\n    <tr>\n      <th>15</th>\n      <td>https://www.seek.com.au//job/57021618?type=sta...</td>\n    </tr>\n    <tr>\n      <th>16</th>\n      <td>https://www.seek.com.au//job/56915405?type=sta...</td>\n    </tr>\n    <tr>\n      <th>17</th>\n      <td>https://www.seek.com.au//job/56914758?type=sta...</td>\n    </tr>\n    <tr>\n      <th>18</th>\n      <td>https://www.seek.com.au//job/57006184?type=sta...</td>\n    </tr>\n    <tr>\n      <th>19</th>\n      <td>https://www.seek.com.au//job/56973410?type=sta...</td>\n    </tr>\n    <tr>\n      <th>20</th>\n      <td>https://www.seek.com.au//job/56784058?type=sta...</td>\n    </tr>\n    <tr>\n      <th>21</th>\n      <td>https://www.seek.com.au//job/56690725?type=sta...</td>\n    </tr>\n    <tr>\n      <th>22</th>\n      <td>https://www.seek.com.au//job/56934003?type=pro...</td>\n    </tr>\n    <tr>\n      <th>23</th>\n      <td>https://www.seek.com.au//job/56834934?type=pro...</td>\n    </tr>\n    <tr>\n      <th>24</th>\n      <td>https://www.seek.com.au//job/56969324?type=sta...</td>\n    </tr>\n    <tr>\n      <th>25</th>\n      <td>https://www.seek.com.au//job/57020051?type=sta...</td>\n    </tr>\n    <tr>\n      <th>26</th>\n      <td>https://www.seek.com.au//job/56914176?type=sta...</td>\n    </tr>\n    <tr>\n      <th>27</th>\n      <td>https://www.seek.com.au//job/56914177?type=sta...</td>\n    </tr>\n    <tr>\n      <th>28</th>\n      <td>https://www.seek.com.au//job/56914339?type=sta...</td>\n    </tr>\n    <tr>\n      <th>29</th>\n      <td>https://www.seek.com.au//job/56877130?type=sta...</td>\n    </tr>\n    <tr>\n      <th>30</th>\n      <td>https://www.seek.com.au//job/57010796?type=sta...</td>\n    </tr>\n    <tr>\n      <th>31</th>\n      <td>https://www.seek.com.au//job/57015405?type=sta...</td>\n    </tr>\n    <tr>\n      <th>32</th>\n      <td>https://www.seek.com.au//job/56981893?type=sta...</td>\n    </tr>\n    <tr>\n      <th>33</th>\n      <td>https://www.seek.com.au//job/56967612?type=sta...</td>\n    </tr>\n    <tr>\n      <th>34</th>\n      <td>https://www.seek.com.au//job/56908745?type=sta...</td>\n    </tr>\n    <tr>\n      <th>35</th>\n      <td>https://www.seek.com.au//job/57025962?type=sta...</td>\n    </tr>\n    <tr>\n      <th>36</th>\n      <td>https://www.seek.com.au//job/56903744?type=sta...</td>\n    </tr>\n    <tr>\n      <th>37</th>\n      <td>https://www.seek.com.au//job/57015406?type=sta...</td>\n    </tr>\n    <tr>\n      <th>38</th>\n      <td>https://www.seek.com.au//job/56921343?type=sta...</td>\n    </tr>\n    <tr>\n      <th>39</th>\n      <td>https://www.seek.com.au//job/56991888?type=sta...</td>\n    </tr>\n    <tr>\n      <th>40</th>\n      <td>https://www.seek.com.au//job/56943978?type=sta...</td>\n    </tr>\n    <tr>\n      <th>41</th>\n      <td>https://www.seek.com.au//job/56968444?type=sta...</td>\n    </tr>\n    <tr>\n      <th>42</th>\n      <td>https://www.seek.com.au//job/56917237?type=sta...</td>\n    </tr>\n    <tr>\n      <th>43</th>\n      <td>https://www.seek.com.au//job/56851180?type=sta...</td>\n    </tr>\n  </tbody>\n</table>\n</div>"
     },
     "execution_count": 44,
     "metadata": {},
     "output_type": "execute_result"
    }
   ],
   "source": [
    "df"
   ],
   "metadata": {
    "collapsed": false,
    "pycharm": {
     "name": "#%%\n"
    }
   }
  },
  {
   "cell_type": "code",
   "execution_count": null,
   "outputs": [],
   "source": [],
   "metadata": {
    "collapsed": false,
    "pycharm": {
     "name": "#%%\n"
    }
   }
  }
 ],
 "metadata": {
  "kernelspec": {
   "display_name": "Python 3",
   "language": "python",
   "name": "python3"
  },
  "language_info": {
   "codemirror_mode": {
    "name": "ipython",
    "version": 2
   },
   "file_extension": ".py",
   "mimetype": "text/x-python",
   "name": "python",
   "nbconvert_exporter": "python",
   "pygments_lexer": "ipython2",
   "version": "2.7.6"
  }
 },
 "nbformat": 4,
 "nbformat_minor": 0
}