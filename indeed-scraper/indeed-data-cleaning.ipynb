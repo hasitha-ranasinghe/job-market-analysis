{
 "cells": [
  {
   "cell_type": "code",
   "execution_count": 2,
   "metadata": {
    "collapsed": true
   },
   "outputs": [],
   "source": [
    "import pandas as pd\n",
    "import numpy as np"
   ]
  },
  {
   "cell_type": "code",
   "execution_count": 16,
   "outputs": [],
   "source": [
    "df = pd.read_csv('data/indeed-jobs.csv')"
   ],
   "metadata": {
    "collapsed": false,
    "pycharm": {
     "name": "#%%\n"
    }
   }
  },
  {
   "cell_type": "code",
   "execution_count": 17,
   "outputs": [
    {
     "data": {
      "text/plain": "   Unnamed: 0                                              title  \\\n0           0  Risk Advisory - Data & Analytics - 2022/23 Gra...   \n1           1     TEAM LEADER, INFORMATION ANALYST AND REPORTING   \n2           2  Architects | Technology Consulting - Data & An...   \n3           3                             Insider Threat Analyst   \n4           4                       Business Analyst - Associate   \n\n                                        company                      salary  \\\n0                                      Deloitte                         NaN   \n1  SA Government -SACE BOARD OF SOUTH AUSTRALIA  $103,387 - $111,759 a year   \n2                                            EY             $150,000 a year   \n3                                  DTEX Systems                         NaN   \n4                                           PwC                         NaN   \n\n                                             summary  \n0  A passion for data analysis and presenting dat...  \n1  Demonstrated ability to interpret and represen...  \n2  Design, develop and implement data collection,...  \n3  Analyze customer activity data to identify cur...  \n4  You are skilled in IT and Infrastructure, data...  ",
      "text/html": "<div>\n<style scoped>\n    .dataframe tbody tr th:only-of-type {\n        vertical-align: middle;\n    }\n\n    .dataframe tbody tr th {\n        vertical-align: top;\n    }\n\n    .dataframe thead th {\n        text-align: right;\n    }\n</style>\n<table border=\"1\" class=\"dataframe\">\n  <thead>\n    <tr style=\"text-align: right;\">\n      <th></th>\n      <th>Unnamed: 0</th>\n      <th>title</th>\n      <th>company</th>\n      <th>salary</th>\n      <th>summary</th>\n    </tr>\n  </thead>\n  <tbody>\n    <tr>\n      <th>0</th>\n      <td>0</td>\n      <td>Risk Advisory - Data &amp; Analytics - 2022/23 Gra...</td>\n      <td>Deloitte</td>\n      <td>NaN</td>\n      <td>A passion for data analysis and presenting dat...</td>\n    </tr>\n    <tr>\n      <th>1</th>\n      <td>1</td>\n      <td>TEAM LEADER, INFORMATION ANALYST AND REPORTING</td>\n      <td>SA Government -SACE BOARD OF SOUTH AUSTRALIA</td>\n      <td>$103,387 - $111,759 a year</td>\n      <td>Demonstrated ability to interpret and represen...</td>\n    </tr>\n    <tr>\n      <th>2</th>\n      <td>2</td>\n      <td>Architects | Technology Consulting - Data &amp; An...</td>\n      <td>EY</td>\n      <td>$150,000 a year</td>\n      <td>Design, develop and implement data collection,...</td>\n    </tr>\n    <tr>\n      <th>3</th>\n      <td>3</td>\n      <td>Insider Threat Analyst</td>\n      <td>DTEX Systems</td>\n      <td>NaN</td>\n      <td>Analyze customer activity data to identify cur...</td>\n    </tr>\n    <tr>\n      <th>4</th>\n      <td>4</td>\n      <td>Business Analyst - Associate</td>\n      <td>PwC</td>\n      <td>NaN</td>\n      <td>You are skilled in IT and Infrastructure, data...</td>\n    </tr>\n  </tbody>\n</table>\n</div>"
     },
     "execution_count": 17,
     "metadata": {},
     "output_type": "execute_result"
    }
   ],
   "source": [
    "df.head()"
   ],
   "metadata": {
    "collapsed": false,
    "pycharm": {
     "name": "#%%\n"
    }
   }
  },
  {
   "cell_type": "code",
   "execution_count": 18,
   "outputs": [
    {
     "data": {
      "text/plain": "(288, 5)"
     },
     "execution_count": 18,
     "metadata": {},
     "output_type": "execute_result"
    }
   ],
   "source": [
    "df.shape"
   ],
   "metadata": {
    "collapsed": false,
    "pycharm": {
     "name": "#%%\n"
    }
   }
  },
  {
   "cell_type": "code",
   "execution_count": 19,
   "outputs": [
    {
     "data": {
      "text/plain": "EGM Partners                                          43\nDeloitte                                              20\nHarrison McMillan                                     17\nKaizen Recruitment                                    17\nSA Health                                             17\nContingent Roles at Santos                            17\nCapgemini Australia                                   16\nGroup Corporate                                       16\nBAE Systems                                           16\nRaytheon Intelligence & Space                         16\nRandstad                                              16\nNovotech                                              16\nHender Consulting                                     16\nRAA                                                    4\nPwC                                                    4\nHays Technology                                        3\nASC Pty Ltd                                            2\nRobert Walters                                         2\nHAYS                                                   2\nDWS                                                    2\nAccenture                                              1\nCharter Bridge Consulting                              1\nA V Immigration And Careers Consultancy Private...     1\nGHD                                                    1\nTalent International                                   1\nHarvey Nash                                            1\nSouth Australian Health and Medical Research...        1\nBOEING                                                 1\nChandler Macleod                                       1\nDiscovery Parks                                        1\nSA Government -SA HOUSING AUTHORITY                    1\nEY                                                     1\nDTEX Systems                                           1\nINK IT Solutions                                       1\nAustralian Government Department of Defence            1\nCBRE                                                   1\nData Action                                            1\nAllianz                                                1\nSA Government -DEPARTMENT FOR EDUCATION                1\nElectrolux                                             1\nAxsys                                                  1\nBoeing RIV Site                                        1\nThe Hospital Research Foundation                       1\nMYOB                                                   1\nSA Government -SACE BOARD OF SOUTH AUSTRALIA           1\nFDM Group                                              1\nName: company, dtype: int64"
     },
     "execution_count": 19,
     "metadata": {},
     "output_type": "execute_result"
    }
   ],
   "source": [
    "df['company'].value_counts()"
   ],
   "metadata": {
    "collapsed": false,
    "pycharm": {
     "name": "#%%\n"
    }
   }
  },
  {
   "cell_type": "code",
   "execution_count": 20,
   "outputs": [
    {
     "data": {
      "text/plain": "array([nan, '$103,387 - $111,759 a year', '$150,000 a year',\n       '$106,074 - $119,651 a year', '$82,042 - $91,245 a year',\n       '$135,000 - $150,000 a year', '$60 - $65 an hour',\n       '$115,817 - $120,189 a year', '$95,000 - $110,000 a year',\n       'Full-time', 'Part-time +1'], dtype=object)"
     },
     "execution_count": 20,
     "metadata": {},
     "output_type": "execute_result"
    }
   ],
   "source": [
    "df['salary'].unique()"
   ],
   "metadata": {
    "collapsed": false,
    "pycharm": {
     "name": "#%%\n"
    }
   }
  },
  {
   "cell_type": "code",
   "execution_count": 21,
   "outputs": [
    {
     "data": {
      "text/plain": "     Unnamed: 0                                              title  \\\n0             0  Risk Advisory - Data & Analytics - 2022/23 Gra...   \n1             1     TEAM LEADER, INFORMATION ANALYST AND REPORTING   \n2             2  Architects | Technology Consulting - Data & An...   \n3             3                             Insider Threat Analyst   \n4             4                       Business Analyst - Associate   \n..          ...                                                ...   \n283         283                 Senior Risk and Compliance Analyst   \n284         284                       Senior Energy Market Analyst   \n285         285                         Technical Business Analyst   \n286         286     Senior IDS Data & Analytics Architectural Lead   \n287         287                Business Analyst - Clinical Systems   \n\n                                          company                      salary  \\\n0                                        Deloitte                         NaN   \n1    SA Government -SACE BOARD OF SOUTH AUSTRALIA  $103,387 - $111,759 a year   \n2                                              EY             $150,000 a year   \n3                                    DTEX Systems                         NaN   \n4                                             PwC                         NaN   \n..                                            ...                         ...   \n283                            Kaizen Recruitment                         NaN   \n284                                  EGM Partners                         NaN   \n285                                      Randstad                         NaN   \n286                             Harrison McMillan                         NaN   \n287                                      Novotech                         NaN   \n\n                                               summary  \n0    A passion for data analysis and presenting dat...  \n1    Demonstrated ability to interpret and represen...  \n2    Design, develop and implement data collection,...  \n3    Analyze customer activity data to identify cur...  \n4    You are skilled in IT and Infrastructure, data...  \n..                                                 ...  \n283  Location - Adelaide | Relocation package offer...  \n284  Responsible for maintaining a large database o...  \n285  Experience with articulating technical data an...  \n286  Advanced experience in enterprise data modelli...  \n287  Good understanding of data modeling /data arch...  \n\n[288 rows x 5 columns]",
      "text/html": "<div>\n<style scoped>\n    .dataframe tbody tr th:only-of-type {\n        vertical-align: middle;\n    }\n\n    .dataframe tbody tr th {\n        vertical-align: top;\n    }\n\n    .dataframe thead th {\n        text-align: right;\n    }\n</style>\n<table border=\"1\" class=\"dataframe\">\n  <thead>\n    <tr style=\"text-align: right;\">\n      <th></th>\n      <th>Unnamed: 0</th>\n      <th>title</th>\n      <th>company</th>\n      <th>salary</th>\n      <th>summary</th>\n    </tr>\n  </thead>\n  <tbody>\n    <tr>\n      <th>0</th>\n      <td>0</td>\n      <td>Risk Advisory - Data &amp; Analytics - 2022/23 Gra...</td>\n      <td>Deloitte</td>\n      <td>NaN</td>\n      <td>A passion for data analysis and presenting dat...</td>\n    </tr>\n    <tr>\n      <th>1</th>\n      <td>1</td>\n      <td>TEAM LEADER, INFORMATION ANALYST AND REPORTING</td>\n      <td>SA Government -SACE BOARD OF SOUTH AUSTRALIA</td>\n      <td>$103,387 - $111,759 a year</td>\n      <td>Demonstrated ability to interpret and represen...</td>\n    </tr>\n    <tr>\n      <th>2</th>\n      <td>2</td>\n      <td>Architects | Technology Consulting - Data &amp; An...</td>\n      <td>EY</td>\n      <td>$150,000 a year</td>\n      <td>Design, develop and implement data collection,...</td>\n    </tr>\n    <tr>\n      <th>3</th>\n      <td>3</td>\n      <td>Insider Threat Analyst</td>\n      <td>DTEX Systems</td>\n      <td>NaN</td>\n      <td>Analyze customer activity data to identify cur...</td>\n    </tr>\n    <tr>\n      <th>4</th>\n      <td>4</td>\n      <td>Business Analyst - Associate</td>\n      <td>PwC</td>\n      <td>NaN</td>\n      <td>You are skilled in IT and Infrastructure, data...</td>\n    </tr>\n    <tr>\n      <th>...</th>\n      <td>...</td>\n      <td>...</td>\n      <td>...</td>\n      <td>...</td>\n      <td>...</td>\n    </tr>\n    <tr>\n      <th>283</th>\n      <td>283</td>\n      <td>Senior Risk and Compliance Analyst</td>\n      <td>Kaizen Recruitment</td>\n      <td>NaN</td>\n      <td>Location - Adelaide | Relocation package offer...</td>\n    </tr>\n    <tr>\n      <th>284</th>\n      <td>284</td>\n      <td>Senior Energy Market Analyst</td>\n      <td>EGM Partners</td>\n      <td>NaN</td>\n      <td>Responsible for maintaining a large database o...</td>\n    </tr>\n    <tr>\n      <th>285</th>\n      <td>285</td>\n      <td>Technical Business Analyst</td>\n      <td>Randstad</td>\n      <td>NaN</td>\n      <td>Experience with articulating technical data an...</td>\n    </tr>\n    <tr>\n      <th>286</th>\n      <td>286</td>\n      <td>Senior IDS Data &amp; Analytics Architectural Lead</td>\n      <td>Harrison McMillan</td>\n      <td>NaN</td>\n      <td>Advanced experience in enterprise data modelli...</td>\n    </tr>\n    <tr>\n      <th>287</th>\n      <td>287</td>\n      <td>Business Analyst - Clinical Systems</td>\n      <td>Novotech</td>\n      <td>NaN</td>\n      <td>Good understanding of data modeling /data arch...</td>\n    </tr>\n  </tbody>\n</table>\n<p>288 rows × 5 columns</p>\n</div>"
     },
     "execution_count": 21,
     "metadata": {},
     "output_type": "execute_result"
    }
   ],
   "source": [
    "df"
   ],
   "metadata": {
    "collapsed": false,
    "pycharm": {
     "name": "#%%\n"
    }
   }
  },
  {
   "cell_type": "code",
   "execution_count": null,
   "outputs": [],
   "source": [],
   "metadata": {
    "collapsed": false,
    "pycharm": {
     "name": "#%%\n"
    }
   }
  }
 ],
 "metadata": {
  "kernelspec": {
   "display_name": "Python 3",
   "language": "python",
   "name": "python3"
  },
  "language_info": {
   "codemirror_mode": {
    "name": "ipython",
    "version": 2
   },
   "file_extension": ".py",
   "mimetype": "text/x-python",
   "name": "python",
   "nbconvert_exporter": "python",
   "pygments_lexer": "ipython2",
   "version": "2.7.6"
  }
 },
 "nbformat": 4,
 "nbformat_minor": 0
}